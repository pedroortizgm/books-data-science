{
 "cells": [
  {
   "cell_type": "markdown",
   "metadata": {},
   "source": [
    "## Tabla de contenidos:\n",
    "* [Carga de datos](#carga-datos)\n",
    "* [Gráfico animado](#grafico-burbujas)"
   ]
  },
  {
   "cell_type": "markdown",
   "metadata": {},
   "source": [
    "### Carga del dataset con los datos preparados para los gráficos <a class=\"anchor\" name=\"carga-datos\"/>"
   ]
  },
  {
   "cell_type": "code",
   "execution_count": null,
   "metadata": {},
   "outputs": [],
   "source": [
    "import pandas as pd\n",
    "import numpy as np\n",
    "\n",
    "df_books_by_genre_and_year = pd.read_csv(\"books_by_genre_and_year.csv\")\n",
    "\n",
    "# Convertir los tipos float a int\n",
    "df_books_by_genre_and_year.publication_year = df_books_by_genre_and_year.publication_year.astype(dtype=np.int32)\n",
    "df_books_by_genre_and_year.num_pages = df_books_by_genre_and_year.num_pages.astype(dtype=np.int32)\n",
    "df_books_by_genre_and_year.ratings_count = df_books_by_genre_and_year.ratings_count.astype(dtype=np.int32)\n",
    "df_books_by_genre_and_year.number_of_books = df_books_by_genre_and_year.number_of_books.astype(dtype=np.int32)\n",
    "\n",
    "df_books_by_genre_and_year.info()"
   ]
  },
  {
   "cell_type": "markdown",
   "metadata": {},
   "source": [
    "### Gráfico animado con  burbujas <a class=\"anchor\" name=\"grafico-burbujas\"/>\n",
    "\n",
    "Hemos preparado un gráfico animado mediante el uso de las librerías **plotly** y **bubbly**.\n",
    "La animación representa el total del número de libros publicados durante los años (eje x), así como su valoración media (eje y), género (se representa en la burbuja), super género (se representa con el color de la burbuja) y número de valoraciones (tamaño de la burbuja)\n",
    "\n",
    "Podemos explorar la información de 2 formas distintas respecto a la variable \"fecha de publicación\":\n",
    "    1. De modo automático con el botón \"play\"\n",
    "    2. De modo manual arrastando para ello la barra de control ubicada bajo el gráfico.\n",
    " \n",
    "También es posible controlar el nivel de zoom del gráfico mediante:\n",
    "    1. Mediante el botón \"zoom\" ubicado en la barra ubicada en la parte superior del gráfico.\n",
    "    2. Seleccionando con el ratón un área del gráfico sobre la que quedamos hacer zoom.\n",
    "    \n",
    "Por último podremos ver con más detalle la información del gráfico al pasar el puntero del ratón por encima de las burbujas. Al hacerlo podremos ver el género, super género, valoración media y total de valoraciones al que pertenece el libro.\n",
    "\n",
    "![bubbleplot](images/bubbleplot.png)"
   ]
  },
  {
   "cell_type": "code",
   "execution_count": null,
   "metadata": {},
   "outputs": [],
   "source": [
    "from plotly.offline import init_notebook_mode, iplot\n",
    "init_notebook_mode()\n",
    "from bubbly.bubbly import bubbleplot\n",
    "\n",
    "figure = bubbleplot(\n",
    "    dataset=df_books_by_genre_and_year.sort_values(by=\"publication_year\"),\n",
    "    x_column = 'number_of_books',\n",
    "    y_column = 'average_rating',\n",
    "    bubble_column='genre',\n",
    "    time_column=\"publication_year\",\n",
    "    size_column=\"ratings_count\",\n",
    "    color_column=\"supergenre\")\n",
    "\n",
    "iplot(figure)"
   ]
  },
  {
   "cell_type": "markdown",
   "metadata": {},
   "source": [
    "<div style=\"width:100%;\">\n",
    "    <div style=\"float: left;\">\n",
    "            <div style=\"text-align: left\">\n",
    "            <a href=\"./books.ipynb\">Volver a Análisis de Datos</a>\n",
    "        </div>\n",
    "    </div>\n",
    "    <div style=\"float: right;\">\n",
    "        <div style=\"text-align: right\">\n",
    "            <a href=\"./books-bigml.ipynb\">Continuar a Machine Learning</a>\n",
    "        </div>\n",
    "    </div>\n",
    "</div>"
   ]
  }
 ],
 "metadata": {
  "kernelspec": {
   "display_name": "Python 3",
   "language": "python",
   "name": "python3"
  },
  "language_info": {
   "codemirror_mode": {
    "name": "ipython",
    "version": 3
   },
   "file_extension": ".py",
   "mimetype": "text/x-python",
   "name": "python",
   "nbconvert_exporter": "python",
   "pygments_lexer": "ipython3",
   "version": "3.7.3"
  }
 },
 "nbformat": 4,
 "nbformat_minor": 2
}
