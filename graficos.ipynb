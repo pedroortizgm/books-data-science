{
 "cells": [
  {
   "cell_type": "markdown",
   "metadata": {},
   "source": [
    "## Tabla de contenidos:\n",
    "* [Carga de datos](#carga-datos)\n",
    "* [Grafico 1](#grafico-1)\n",
    "* [Grafico 2](#grafico-2)\n",
    "* [Grafico 3](#grafico-3)"
   ]
  },
  {
   "cell_type": "markdown",
   "metadata": {},
   "source": [
    "### Carga del dataset con los datos precocinados para los gráficos <a class=\"anchor\" name=\"carga-datos\"/>"
   ]
  },
  {
   "cell_type": "code",
   "execution_count": null,
   "metadata": {},
   "outputs": [],
   "source": [
    "import pandas as pd\n",
    "import numpy as np\n",
    "\n",
    "df_books_by_genre_and_year = pd.read_csv(\"books_by_genre_and_year.csv\")\n",
    "\n",
    "# Convertir los tipos float a int\n",
    "df_books_by_genre_and_year.publication_year = df_books_by_genre_and_year.publication_year.astype(dtype=np.int32)\n",
    "df_books_by_genre_and_year.num_pages = df_books_by_genre_and_year.num_pages.astype(dtype=np.int32)\n",
    "df_books_by_genre_and_year.ratings_count = df_books_by_genre_and_year.ratings_count.astype(dtype=np.int32)\n",
    "df_books_by_genre_and_year.number_of_books = df_books_by_genre_and_year.number_of_books.astype(dtype=np.int32)\n",
    "#df_books_by_genre_and_year.average_rating = df_books_by_genre_and_year.average_rating.astype(dtype=np.int32)\n",
    "\n",
    "df_books_by_genre_and_year.info()"
   ]
  },
  {
   "cell_type": "markdown",
   "metadata": {},
   "source": [
    "### Grafico con scipy <a class=\"anchor\" name=\"grafico-1\"/>"
   ]
  },
  {
   "cell_type": "code",
   "execution_count": null,
   "metadata": {},
   "outputs": [],
   "source": [
    "from pylab import *\n",
    "from scipy import *\n",
    "\n",
    "tmp = df_books_by_genre_and_year[df_books_by_genre_and_year.publication_year==2010]\n",
    "print(df_books_by_genre_and_year.ratings_count.min(), \n",
    "      df_books_by_genre_and_year.ratings_count.max())\n",
    "print(df_books_by_genre_and_year.average_rating.min(), \n",
    "      df_books_by_genre_and_year.average_rating.max())\n",
    "\n",
    "x = df_books_by_genre_and_year.ratings_count\n",
    "y = df_books_by_genre_and_year.average_rating\n",
    "area = df_books_by_genre_and_year.number_of_books\n",
    "sct = scatter(x, y, s=area,linewidths=10, edgecolor='w')\n",
    "sct.set_alpha(0.75)\n",
    "xscale('log')\n",
    "xlabel('Publication Year')\n",
    "ylabel('Number of books')\n",
    "#sct.title('Number of pages by book every year')\n",
    "show()\n"
   ]
  },
  {
   "cell_type": "markdown",
   "metadata": {},
   "source": [
    "### Grafico burbujas <a class=\"anchor\" name=\"grafico-3\"/>"
   ]
  },
  {
   "cell_type": "code",
   "execution_count": null,
   "metadata": {},
   "outputs": [],
   "source": [
    "from plotly.offline import init_notebook_mode, iplot\n",
    "init_notebook_mode()\n",
    "from bubbly.bubbly import bubbleplot\n",
    "\n",
    "figure = bubbleplot(\n",
    "    dataset=df_books_by_genre_and_year.sort_values(by=\"publication_year\"),\n",
    "    x_column = 'number_of_books',\n",
    "    y_column = 'average_rating',\n",
    "    bubble_column='genre',\n",
    "    time_column=\"publication_year\",\n",
    "    size_column=\"ratings_count\",\n",
    "    color_column=\"supergenre\")\n",
    "\n",
    "iplot(figure)"
   ]
  }
 ],
 "metadata": {
  "kernelspec": {
   "display_name": "Python 3",
   "language": "python",
   "name": "python3"
  },
  "language_info": {
   "codemirror_mode": {
    "name": "ipython",
    "version": 3
   },
   "file_extension": ".py",
   "mimetype": "text/x-python",
   "name": "python",
   "nbconvert_exporter": "python",
   "pygments_lexer": "ipython3",
   "version": "3.7.3"
  }
 },
 "nbformat": 4,
 "nbformat_minor": 2
}
