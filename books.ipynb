{
 "cells": [
  {
   "cell_type": "markdown",
   "metadata": {},
   "source": [
    "# Práctica: Fundamentos de Data Science\n",
    "\n",
    "Para la práctica de la asignatura de Fundamentos de Data Science, se va a analizar un conjunto de libros.\n",
    "La práctica se divide en 2 partes principales:\n",
    "* [**Análisis Exploratorio**](#analisis-exploratorio) En este punto se realiza el análisis estático del dataset obtenido, tratando los valores nulos y buscando las variables de interés, así como haciendo un breve contraste de hipótesis.\n",
    "* [**Machine Learning con BigML**](./books-bigml.ipynb) En este punto se emplea la herramienta online [BigML](https://bigml.com/) para realizar un entrenamiento supervisado y un entrenamiento no supervisado sobre el que obtener conclusiones.\n"
   ]
  },
  {
   "cell_type": "markdown",
   "metadata": {},
   "source": [
    "# Análisis Exploratorio <a class=\"anchor\" name=\"analisis-exploratorio\"/>"
   ]
  },
  {
   "cell_type": "markdown",
   "metadata": {},
   "source": [
    "## Tabla de contenidos:\n",
    "* [Descarga de datos](#descarga-datos)\n",
    "* [Carga inicial de los datos](#carga-inicial)\n",
    "* [Observación de valores nulos](#datos-nulos)\n",
    "    * [Identificadores](#columnas-identificadores)\n",
    "    * [Libros](#columnas-informacion)\n",
    "    * [Usuarios](#columnas-usuarios)\n",
    "    * [Autores](#columnas-autores)\n",
    "* [Distribución y Correlaciones](#distribucion-correlacion)\n",
    "    * [Fechas de publicación](#fechas-de-publicacion)\n",
    "    * [Géneros](#generos)\n",
    "    * [Número de páginas](#numero-de-paginas)\n",
    "    * [Formatos](#formatos)\n",
    "    * [Libros mejor valorados](#libros-mejor-valorados)\n",
    "    * [Preparación para el gráfico de burbujas](#bubble-genres)"
   ]
  },
  {
   "cell_type": "markdown",
   "metadata": {},
   "source": [
    "## Descarga de datos <a class=\"anchor\" name=\"descarga-datos\"/>\n",
    "Para la descarga de datos, se ha optado por el uso de un API.\n",
    "En concreto se va a utilizar el API de goodreads, una página especializada en libros, con más de 85 millones de usuarios y más de 2.5 billones (americanos) de libros. ([https://www.goodreads.com/about/us](https://www.goodreads.com/about/us)).\n",
    "\n",
    "El API ([https://www.goodreads.com/api](https://www.goodreads.com/api)) disponde un endpoint REST en el que se puede obtener la información detallada de un libro por _ISBN_ o por un _ID_ propio de su sistema. \n",
    "Para el caso de esta práctica se ha hecho un script en python (<a href=\"goodreads.py\">*goodreads.py*</a>) que permite descargar la lista completa de libros en un fichero csv. \n",
    "\n",
    "Para facilitar el uso del notebook, se proporciorna un fichero csv con los libros descargados previamente: _books.csv_ \n",
    "\n",
    "Para usar el script bastaría con lanzar el comando: `python3 goodreads.py` \n",
    "\n",
    "Este script acepta parametros de entrada, como desde que libro hasta que libro se quiere ir, y cuantos libros se quieren saltar entre cada libro. `python3 goodreads.py -o FILENAME -s START_BOOK -e END_BOOK -l SKIP_BOOKS` \n",
    "\n",
    "Debido a la inmensa cantidad de libros se ha precalculado un listado de libros para no tener que hacer uso del script en la evaluación. Se ha generado un fichero _books_expanded.csv_ con unos XXXXXX libros, aunque supongan un porcentaje pequeño del total de libros disponibles en la plataforma http://www.goodreads.com"
   ]
  },
  {
   "cell_type": "markdown",
   "metadata": {},
   "source": [
    "## Carga inicial de los datos <a class=\"anchor\" name=\"carga-inicial\"/>\n",
    "\n",
    "Se carga en memoria mediante pandas el dataset de libros almancenado en un repositorio _gitHub_. \n",
    "\n",
    "Adicionalmente se obtiene la primera información sobre los datos que contine el dataset. "
   ]
  },
  {
   "cell_type": "code",
   "execution_count": 1,
   "metadata": {},
   "outputs": [
    {
     "data": {
      "text/plain": [
       "(140809, 42)"
      ]
     },
     "execution_count": 1,
     "metadata": {},
     "output_type": "execute_result"
    }
   ],
   "source": [
    "import pandas as pd\n",
    "\n",
    "df = pd.read_csv(\n",
    "    \"https://raw.githubusercontent.com/pedroortizgm/books-data-science/master/books_complete.csv\",\n",
    "    low_memory=False\n",
    ")\n",
    "\n",
    "df.shape"
   ]
  },
  {
   "cell_type": "code",
   "execution_count": 2,
   "metadata": {},
   "outputs": [
    {
     "data": {
      "text/html": [
       "<div>\n",
       "<style scoped>\n",
       "    .dataframe tbody tr th:only-of-type {\n",
       "        vertical-align: middle;\n",
       "    }\n",
       "\n",
       "    .dataframe tbody tr th {\n",
       "        vertical-align: top;\n",
       "    }\n",
       "\n",
       "    .dataframe thead th {\n",
       "        text-align: right;\n",
       "    }\n",
       "</style>\n",
       "<table border=\"1\" class=\"dataframe\">\n",
       "  <thead>\n",
       "    <tr style=\"text-align: right;\">\n",
       "      <th></th>\n",
       "      <th>id</th>\n",
       "      <th>isbn</th>\n",
       "      <th>title</th>\n",
       "      <th>isbn13</th>\n",
       "      <th>asin</th>\n",
       "      <th>kindle_asin</th>\n",
       "      <th>marketplace_id</th>\n",
       "      <th>country_code</th>\n",
       "      <th>publication_date</th>\n",
       "      <th>publisher</th>\n",
       "      <th>...</th>\n",
       "      <th>authors</th>\n",
       "      <th>illustrator</th>\n",
       "      <th>contributor</th>\n",
       "      <th>editor</th>\n",
       "      <th>translator</th>\n",
       "      <th>narrator</th>\n",
       "      <th>to_read</th>\n",
       "      <th>read</th>\n",
       "      <th>currently_reading</th>\n",
       "      <th>genres</th>\n",
       "    </tr>\n",
       "  </thead>\n",
       "  <tbody>\n",
       "    <tr>\n",
       "      <th>0</th>\n",
       "      <td>1</td>\n",
       "      <td>0439785960</td>\n",
       "      <td>Harry Potter and the Half-Blood Prince (Harry ...</td>\n",
       "      <td>9780439785969</td>\n",
       "      <td>NaN</td>\n",
       "      <td>NaN</td>\n",
       "      <td>NaN</td>\n",
       "      <td>ES</td>\n",
       "      <td>2006/9/16</td>\n",
       "      <td>Scholastic Inc.</td>\n",
       "      <td>...</td>\n",
       "      <td>J.K. Rowling</td>\n",
       "      <td>Mary GrandPré</td>\n",
       "      <td>NaN</td>\n",
       "      <td>NaN</td>\n",
       "      <td>NaN</td>\n",
       "      <td>NaN</td>\n",
       "      <td>230741.0</td>\n",
       "      <td>7503</td>\n",
       "      <td>22404.0</td>\n",
       "      <td>adventure,childrens,classics,contemporary,fant...</td>\n",
       "    </tr>\n",
       "    <tr>\n",
       "      <th>1</th>\n",
       "      <td>501</td>\n",
       "      <td>1425318738</td>\n",
       "      <td>The Tesla Rotating Magnetic Field</td>\n",
       "      <td>9781425318734</td>\n",
       "      <td>NaN</td>\n",
       "      <td>NaN</td>\n",
       "      <td>NaN</td>\n",
       "      <td>ES</td>\n",
       "      <td>NaN</td>\n",
       "      <td>NaN</td>\n",
       "      <td>...</td>\n",
       "      <td>Nikola Tesla,Thomas Commerford Martin</td>\n",
       "      <td>NaN</td>\n",
       "      <td>NaN</td>\n",
       "      <td>NaN</td>\n",
       "      <td>NaN</td>\n",
       "      <td>NaN</td>\n",
       "      <td>15.0</td>\n",
       "      <td>0</td>\n",
       "      <td>2.0</td>\n",
       "      <td>NaN</td>\n",
       "    </tr>\n",
       "    <tr>\n",
       "      <th>2</th>\n",
       "      <td>1001</td>\n",
       "      <td>0740755706</td>\n",
       "      <td>Millionaire Women Next Door: The Many Journeys...</td>\n",
       "      <td>9780740755705</td>\n",
       "      <td>NaN</td>\n",
       "      <td>NaN</td>\n",
       "      <td>NaN</td>\n",
       "      <td>ES</td>\n",
       "      <td>2005/8/1</td>\n",
       "      <td>Andrews McMeel Publishing</td>\n",
       "      <td>...</td>\n",
       "      <td>Thomas J. Stanley</td>\n",
       "      <td>NaN</td>\n",
       "      <td>NaN</td>\n",
       "      <td>NaN</td>\n",
       "      <td>NaN</td>\n",
       "      <td>NaN</td>\n",
       "      <td>972.0</td>\n",
       "      <td>12</td>\n",
       "      <td>129.0</td>\n",
       "      <td>adult,business,economics,feminism,non-fiction,...</td>\n",
       "    </tr>\n",
       "    <tr>\n",
       "      <th>3</th>\n",
       "      <td>1501</td>\n",
       "      <td>0865165130</td>\n",
       "      <td>The Essential Euripides</td>\n",
       "      <td>9780865165137</td>\n",
       "      <td>NaN</td>\n",
       "      <td>NaN</td>\n",
       "      <td>NaN</td>\n",
       "      <td>ES</td>\n",
       "      <td>1995/1/1</td>\n",
       "      <td>Bolchazy-Carducci Publishers</td>\n",
       "      <td>...</td>\n",
       "      <td>Euripides,Robert Emmet Meagher</td>\n",
       "      <td>NaN</td>\n",
       "      <td>NaN</td>\n",
       "      <td>NaN</td>\n",
       "      <td>NaN</td>\n",
       "      <td>NaN</td>\n",
       "      <td>4.0</td>\n",
       "      <td>0</td>\n",
       "      <td>NaN</td>\n",
       "      <td>adult,adult-fiction</td>\n",
       "    </tr>\n",
       "    <tr>\n",
       "      <th>4</th>\n",
       "      <td>2001</td>\n",
       "      <td>1584153253</td>\n",
       "      <td>J.K. Rowling</td>\n",
       "      <td>9781584153252</td>\n",
       "      <td>NaN</td>\n",
       "      <td>NaN</td>\n",
       "      <td>NaN</td>\n",
       "      <td>ES</td>\n",
       "      <td>2005/2/1</td>\n",
       "      <td>Mitchell Lane Publishers</td>\n",
       "      <td>...</td>\n",
       "      <td>Ann Gaines</td>\n",
       "      <td>NaN</td>\n",
       "      <td>NaN</td>\n",
       "      <td>NaN</td>\n",
       "      <td>NaN</td>\n",
       "      <td>NaN</td>\n",
       "      <td>173.0</td>\n",
       "      <td>2</td>\n",
       "      <td>1.0</td>\n",
       "      <td>biography,biography-memoir,non-fiction</td>\n",
       "    </tr>\n",
       "  </tbody>\n",
       "</table>\n",
       "<p>5 rows × 42 columns</p>\n",
       "</div>"
      ],
      "text/plain": [
       "     id        isbn                                              title  \\\n",
       "0     1  0439785960  Harry Potter and the Half-Blood Prince (Harry ...   \n",
       "1   501  1425318738                  The Tesla Rotating Magnetic Field   \n",
       "2  1001  0740755706  Millionaire Women Next Door: The Many Journeys...   \n",
       "3  1501  0865165130                            The Essential Euripides   \n",
       "4  2001  1584153253                                       J.K. Rowling   \n",
       "\n",
       "          isbn13 asin  kindle_asin  marketplace_id country_code  \\\n",
       "0  9780439785969  NaN          NaN             NaN           ES   \n",
       "1  9781425318734  NaN          NaN             NaN           ES   \n",
       "2  9780740755705  NaN          NaN             NaN           ES   \n",
       "3  9780865165137  NaN          NaN             NaN           ES   \n",
       "4  9781584153252  NaN          NaN             NaN           ES   \n",
       "\n",
       "  publication_date                     publisher  ...  \\\n",
       "0        2006/9/16               Scholastic Inc.  ...   \n",
       "1              NaN                           NaN  ...   \n",
       "2         2005/8/1     Andrews McMeel Publishing  ...   \n",
       "3         1995/1/1  Bolchazy-Carducci Publishers  ...   \n",
       "4         2005/2/1      Mitchell Lane Publishers  ...   \n",
       "\n",
       "                                 authors    illustrator  contributor  editor  \\\n",
       "0                           J.K. Rowling  Mary GrandPré          NaN     NaN   \n",
       "1  Nikola Tesla,Thomas Commerford Martin            NaN          NaN     NaN   \n",
       "2                      Thomas J. Stanley            NaN          NaN     NaN   \n",
       "3         Euripides,Robert Emmet Meagher            NaN          NaN     NaN   \n",
       "4                             Ann Gaines            NaN          NaN     NaN   \n",
       "\n",
       "   translator  narrator   to_read  read currently_reading  \\\n",
       "0         NaN       NaN  230741.0  7503           22404.0   \n",
       "1         NaN       NaN      15.0     0               2.0   \n",
       "2         NaN       NaN     972.0    12             129.0   \n",
       "3         NaN       NaN       4.0     0               NaN   \n",
       "4         NaN       NaN     173.0     2               1.0   \n",
       "\n",
       "                                              genres  \n",
       "0  adventure,childrens,classics,contemporary,fant...  \n",
       "1                                                NaN  \n",
       "2  adult,business,economics,feminism,non-fiction,...  \n",
       "3                                adult,adult-fiction  \n",
       "4             biography,biography-memoir,non-fiction  \n",
       "\n",
       "[5 rows x 42 columns]"
      ]
     },
     "execution_count": 2,
     "metadata": {},
     "output_type": "execute_result"
    }
   ],
   "source": [
    "df.head()"
   ]
  },
  {
   "cell_type": "markdown",
   "metadata": {},
   "source": [
    "## Observación de valores nulos <a class=\"anchor\" name=\"datos-nulos\"/>\n",
    "El siguiente paso es observar los datos, los valores que toman y si hay valores nulos. \n",
    "\n",
    "Para cada una de las columnas del dataset se identifica si tienen valores nulos y cuántos hay en cada uno y la acción a tomar en cada caso.\n"
   ]
  },
  {
   "cell_type": "markdown",
   "metadata": {},
   "source": [
    "Con los tipos y la muestra, se puede deducir la información de cada columna:\n",
    "\n",
    "| Columna | Tipo | Observaciones | Tipo de Campo |\n",
    "| --- | --- | --- | --- |\n",
    "| id | int64 | ID en GoodReads | Identificador |\n",
    "| isbn | object |  ISBN | Identificador |\n",
    "| title | object |  Titulo | Información |\n",
    "| isbn13 | float64 | Codigo ISBN de 13 digitos |  Identificador |\n",
    "| asin | object | Identificador del libro en Amazon |  Identificador |\n",
    "| kindle_asin | float64 | Codigo Kindle |  Identificador |\n",
    "| marketplace_id | float64 | Código del mercado |  Identificador |\n",
    "| country_code | object |  Código de País | Información |\n",
    "| publication_date | object |  Fecha de publicación | Información | \n",
    "| publisher | object | Publicador/Editorial | Información |\n",
    "| language_code | object | Código de idioma de la publicación | Información |\n",
    "| is_ebook | bool | Es un E-Book | Información |\n",
    "| books_count | int64 | ? | Usuarios |\n",
    "| best_book_id | int64 | ? | Usuarios |\n",
    "| reviews_count | int64 | Número de opiniones | Usuarios |\n",
    "| ratings_sum | int64 | Sumatorio de las puntuaciones | Usuarios |\n",
    "| ratings_count | int64 | Número de puntuaciones | Usuarios |\n",
    "| text_reviews_count | int64 | Número de opiniones escritas | Usuarios |\n",
    "| original_publication_date | object | Fecha de publicación original | Informacion |\n",
    "| original_title | object| Titulo original | Informacion |\n",
    "| media_type | object | Tipo de medio | Información |\n",
    "| num_ratings_5 | int64 | Número de veces que han puntuado con un 5 | Usuarios |\n",
    "| num_ratings_4 | int64 | Número de veces que han puntuado con un 4 | Usuarios |\n",
    "| num_ratings_3 | int64 | Número de veces que han puntuado con un 3 | Usuarios |\n",
    "| num_ratings_2 | int64 | Número de veces que han puntuado con un 2 | Usuarios |\n",
    "| num_ratings_1 | int64 | Número de veces que han puntuado con un 1 | Usuarios |\n",
    "| average_rating | float64 | Valoración media | Usuarios |\n",
    "| num_pages | float64 | Número de páginas | Información |\n",
    "| format | object | Formato | Información |\n",
    "| edition_information | object  | Informacíón sobre la edición | Información |\n",
    "| ratings_count_global | int64  | Número de valoraciones total | Usuarios |\n",
    "| text_reviews_count_global | int64 | Número de reseñas total | Usuarios |\n",
    "| authors | object | Autor | Autores |\n",
    "| illustrator | object | Ilustrador | Autores | \n",
    "| contributor | object | Constribuidor | Autores |\n",
    "| editor | object | Editor | Autores |\n",
    "| translator | object | Traductor | Autores |\n",
    "| narrator | object | Narrador | Autores |\n",
    "| to_read | float64 | Número de personas que lo quieren leer | Usuarios |\n",
    "| read | int64 | Número de personas que lo han leído | Usuarios |\n",
    "| currently_reading | float64 | Número de personas que lo están leyendo | Usuarios |\n",
    "| genres | object | Lista de géneros | Información |\n",
    "\n",
    "Adicionalmente se ha identificado a qué hace referencia cada columna:\n",
    "* Identificador : Identificadores del libro\n",
    "* Información: Información sobre el libro o la edición\n",
    "* Usuarios: Información sobre las valoraciones de los usuarios, reseñas, etc.\n",
    "* Autores: Información sobre los creadores del libro"
   ]
  },
  {
   "cell_type": "markdown",
   "metadata": {},
   "source": [
    "Se observa cuántos valores nulos contiene cada columna."
   ]
  },
  {
   "cell_type": "code",
   "execution_count": 3,
   "metadata": {},
   "outputs": [
    {
     "data": {
      "text/plain": [
       "id                                0\n",
       "isbn                          26534\n",
       "title                             0\n",
       "isbn13                        23135\n",
       "asin                         124630\n",
       "kindle_asin                  140809\n",
       "marketplace_id               140809\n",
       "country_code                      0\n",
       "publication_date              41018\n",
       "publisher                     41553\n",
       "language_code                109810\n",
       "is_ebook                          0\n",
       "books_count                       0\n",
       "best_book_id                      0\n",
       "reviews_count                     0\n",
       "ratings_sum                       0\n",
       "ratings_count                     0\n",
       "text_reviews_count                0\n",
       "original_publication_date     34500\n",
       "original_title                59504\n",
       "media_type                    75956\n",
       "num_ratings_5                     0\n",
       "num_ratings_4                     0\n",
       "num_ratings_3                     0\n",
       "num_ratings_2                     0\n",
       "num_ratings_1                     0\n",
       "average_rating                    0\n",
       "num_pages                     53761\n",
       "format                        42338\n",
       "edition_information          135069\n",
       "ratings_count_global              0\n",
       "text_reviews_count_global         0\n",
       "authors                        8959\n",
       "illustrator                  136288\n",
       "contributor                  139459\n",
       "editor                       131038\n",
       "translator                   136725\n",
       "narrator                     140191\n",
       "to_read                       38955\n",
       "read                              0\n",
       "currently_reading             80815\n",
       "genres                        71618\n",
       "dtype: int64"
      ]
     },
     "execution_count": 3,
     "metadata": {},
     "output_type": "execute_result"
    }
   ],
   "source": [
    "df.isna().sum()"
   ]
  },
  {
   "cell_type": "markdown",
   "metadata": {},
   "source": [
    "### Información sobre los identificadores <a class=\"anchor\" name=\"columnas-identificadores\"/>"
   ]
  },
  {
   "cell_type": "markdown",
   "metadata": {},
   "source": [
    "Se eliminarán todos los registros que no contengan **isbn** o **isbn13**. Dado que se trata de los identificadores del libro, ayudará a eliminar aquellos de los que no se disponen todos los datos."
   ]
  },
  {
   "cell_type": "code",
   "execution_count": 4,
   "metadata": {},
   "outputs": [],
   "source": [
    "df.drop(columns = [\"isbn\", \"isbn13\"], inplace=True)"
   ]
  },
  {
   "cell_type": "markdown",
   "metadata": {},
   "source": [
    "Las columnas **asin**, **kindel_asin** y **marketplace_id** apenas tienen valores, por lo que no parece que vayan a ser estadísticamente relevantes. Se eliminan del dataset:"
   ]
  },
  {
   "cell_type": "code",
   "execution_count": 5,
   "metadata": {},
   "outputs": [],
   "source": [
    "df.drop(columns = ['asin', 'kindle_asin', 'marketplace_id'], inplace=True)"
   ]
  },
  {
   "cell_type": "markdown",
   "metadata": {},
   "source": [
    "### Información sobre el libro <a class=\"anchor\" name=\"columnas-informacion\"/>"
   ]
  },
  {
   "cell_type": "markdown",
   "metadata": {},
   "source": [
    "Se observa que todos los libros tienen título (**title**) y prácticamente todos tienen **original_title**. Se suprimen los libros que no tienen alguno de esos dos campos debido al gran volumen de información que tenemos y así poder mezclar mejor los datos."
   ]
  },
  {
   "cell_type": "code",
   "execution_count": 6,
   "metadata": {},
   "outputs": [],
   "source": [
    "df.dropna(subset=[\"title\", \"original_title\"], inplace=True)"
   ]
  },
  {
   "cell_type": "markdown",
   "metadata": {},
   "source": [
    "Además se eliminan libros duplicados , esto es que compartan el campo **original_title**."
   ]
  },
  {
   "cell_type": "code",
   "execution_count": 7,
   "metadata": {},
   "outputs": [],
   "source": [
    "df.drop_duplicates(subset=[\"original_title\"], inplace=True)"
   ]
  },
  {
   "cell_type": "markdown",
   "metadata": {},
   "source": [
    "Las columna **country_code** no contiene nulos pero se ve que todos los valores son iguales por lo que podría ser eliminada."
   ]
  },
  {
   "cell_type": "code",
   "execution_count": 8,
   "metadata": {},
   "outputs": [
    {
     "data": {
      "text/plain": [
       "array(['ES'], dtype=object)"
      ]
     },
     "execution_count": 8,
     "metadata": {},
     "output_type": "execute_result"
    }
   ],
   "source": [
    "df.country_code.unique()"
   ]
  },
  {
   "cell_type": "code",
   "execution_count": 9,
   "metadata": {},
   "outputs": [],
   "source": [
    "df.drop(columns = ['country_code'], inplace=True)"
   ]
  },
  {
   "cell_type": "markdown",
   "metadata": {},
   "source": [
    "Existen dos columnas relacionadas con las fechas de publicación, **publication_date** y **original_publication_date**. Para comprobar cuál es más interesante para el estudio, se analizan los nulos en cada una de ellas.\n",
    "\n",
    "Debido a que hay pocos libros con fecha original de publicación nula (*original_publication_date*) y se considera que es un campo importante sobre el que hacer muestreo y obtener información, se toma la decisión de borrarlos."
   ]
  },
  {
   "cell_type": "code",
   "execution_count": 10,
   "metadata": {},
   "outputs": [
    {
     "name": "stdout",
     "output_type": "stream",
     "text": [
      "publication_date 18825\n",
      "original_publication_date 3565\n",
      "publication_date 16041\n",
      "original_publication_date 0\n"
     ]
    }
   ],
   "source": [
    "print(\"publication_date\", df.publication_date.isna().sum())\n",
    "print(\"original_publication_date\", df.original_publication_date.isna().sum())\n",
    "df.dropna(subset=[\"original_publication_date\"], inplace=True)\n",
    "print(\"publication_date\", df.publication_date.isna().sum())\n",
    "print(\"original_publication_date\", df.original_publication_date.isna().sum())"
   ]
  },
  {
   "cell_type": "markdown",
   "metadata": {},
   "source": [
    "Tanto la columna **publisher** como **language_code** contienen nulos y deben ser tratados como *unkown* en lugar de como nulos, dado que es una información que no ha sido proporcionada."
   ]
  },
  {
   "cell_type": "code",
   "execution_count": 11,
   "metadata": {},
   "outputs": [],
   "source": [
    "df.publisher.fillna(value=\"unknown\", inplace=True)\n",
    "df.language_code.fillna(value=\"unknown\", inplace=True)"
   ]
  },
  {
   "cell_type": "markdown",
   "metadata": {},
   "source": [
    "La columna **is_ebook** no contine nulos y tiene un valor boolean en el que indica si un libro está en formato electrónico o no."
   ]
  },
  {
   "cell_type": "code",
   "execution_count": 12,
   "metadata": {},
   "outputs": [
    {
     "data": {
      "text/plain": [
       "array([False,  True])"
      ]
     },
     "execution_count": 12,
     "metadata": {},
     "output_type": "execute_result"
    }
   ],
   "source": [
    "df.is_ebook.unique()"
   ]
  },
  {
   "cell_type": "markdown",
   "metadata": {},
   "source": [
    "Parece que la columna **media_type** tiene nulos, se obtienen los valores únicos:"
   ]
  },
  {
   "cell_type": "code",
   "execution_count": 13,
   "metadata": {},
   "outputs": [
    {
     "data": {
      "text/plain": [
       "array(['book', nan, 'article', 'not a book', 'periodical'], dtype=object)"
      ]
     },
     "execution_count": 13,
     "metadata": {},
     "output_type": "execute_result"
    }
   ],
   "source": [
    "df[\"media_type\"].unique()"
   ]
  },
  {
   "cell_type": "markdown",
   "metadata": {},
   "source": [
    "Se reemplazan los libros con **media_type** *NaN* por *unknown*:"
   ]
  },
  {
   "cell_type": "code",
   "execution_count": 14,
   "metadata": {},
   "outputs": [
    {
     "data": {
      "text/plain": [
       "array(['book', 'unknown', 'article', 'not a book', 'periodical'],\n",
       "      dtype=object)"
      ]
     },
     "execution_count": 14,
     "metadata": {},
     "output_type": "execute_result"
    }
   ],
   "source": [
    "df.media_type.fillna(value='unknown', inplace=True)\n",
    "df.media_type.unique()"
   ]
  },
  {
   "cell_type": "markdown",
   "metadata": {},
   "source": [
    "Se eliminan los libros que, o bien no tienen **número de páginas**, o su valor es menor o igual que cero."
   ]
  },
  {
   "cell_type": "code",
   "execution_count": 15,
   "metadata": {},
   "outputs": [
    {
     "data": {
      "text/plain": [
       "0"
      ]
     },
     "execution_count": 15,
     "metadata": {},
     "output_type": "execute_result"
    }
   ],
   "source": [
    "import numpy as np\n",
    "df.loc[(df.num_pages < 0) | (df.num_pages == 0), \"num_pages\"] = np.nan\n",
    "df.dropna(subset=[\"num_pages\"], inplace=True)\n",
    "df.num_pages.isna().sum()"
   ]
  },
  {
   "cell_type": "markdown",
   "metadata": {},
   "source": [
    "Se analiza la columna **format** y se observan valores nulos."
   ]
  },
  {
   "cell_type": "code",
   "execution_count": 16,
   "metadata": {},
   "outputs": [
    {
     "data": {
      "text/plain": [
       "array(['Paperback', 'Hardcover', 'Mass Market Paperback', 'Leather Bound',\n",
       "       'Audiobook', nan, 'Unknown Binding', 'Audio CD', 'paper',\n",
       "       'Board book', 'paperback', 'Trade Paperback', 'ebook',\n",
       "       'Textbook Binding', 'Board Book', 'Library Binding',\n",
       "       'Spiral-bound', 'Stripboek', 'Mass Market', 'Foam Book',\n",
       "       'Paperback ', 'chapbook', 'Hard Cover', 'paper back', 'Pamphlet',\n",
       "       'Comic', 'Audio Cassette', 'cloth', 'Comic Book', 'hard cover',\n",
       "       'Softcover', 'Soft Cover', 'hardcover', 'Loose-Leaf',\n",
       "       'Springs of Wisdom', 'Spiral Bound', 'Leather Bound Hardcover',\n",
       "       'Audio', 'hardback', 'Perfect Paperback', 'Vinyl Bound',\n",
       "       'Kindle Edition', 'Unknown', 'hand-sewn chapbook', 'Brochura',\n",
       "       'Broché', 'Digital audio player',\n",
       "       '12,7x18,5 rústica con cuadernillos cosidos al hilo', 'Capa Mole',\n",
       "       'kindle', 'MP3 CD', 'CD-ROM', 'Unbound', 'DVD Audio',\n",
       "       'Preloaded Digital Audio Player', 'print', 'Pocket', 'Brossura',\n",
       "       'Flexible con solapas', 'Turtleback', 'Novelty Book',\n",
       "       'Leatherette Bound', 'Nook', 'Poche', 'Klappenbroschur',\n",
       "       'Audible Audio', ' Ebook  /  Paperback', 'Capa mole', 'Webcomic',\n",
       "       'MP3 Audio', 'Box', 'Magazine', 'Booklet', 'Taschenbuch', 'Essay',\n",
       "       'dust jacket', 'コミック', 'Boxed Set', 'Single Issue Magazine',\n",
       "       'Ring-bound', 'Trade paperback', 'Stencils', 'Rag Book',\n",
       "       'Brochura (Paperback)', 'Sheet music', 'PB',\n",
       "       'Hardcover (Travel Size)', 'poche', 'Hardback', 'Bath Book',\n",
       "       'Misc. Supplies', 'Card Book', 'Cards', 'Plastic Comb/Paperback',\n",
       "       'Calendar', 'Plastic Comb', 'Postcard Book', 'Paper back',\n",
       "       'Hard Copy', 'Map', 'unknown', 'Paperback Manga', 'Reliure Peau',\n",
       "       'Paperback Large-Print Edition', 'Chapbook',\n",
       "       'Mass Market Paperback ', 'softcover', 'audio cd', 'Graphic Novel'],\n",
       "      dtype=object)"
      ]
     },
     "execution_count": 16,
     "metadata": {},
     "output_type": "execute_result"
    }
   ],
   "source": [
    "df.format.unique()"
   ]
  },
  {
   "cell_type": "markdown",
   "metadata": {},
   "source": [
    "Para evitar el borrado de muchos libros de forma innecesaria, a todos los libros que no tengan un formato especificado se les asigna el formato *unknown*."
   ]
  },
  {
   "cell_type": "code",
   "execution_count": 17,
   "metadata": {},
   "outputs": [],
   "source": [
    "df.format = df.format.fillna(value=\"unknown\")"
   ]
  },
  {
   "cell_type": "markdown",
   "metadata": {},
   "source": [
    "Del mismo modo que la columna anterior, se analiza la columna **edition_information** y se tratan los valores nulos. "
   ]
  },
  {
   "cell_type": "code",
   "execution_count": 18,
   "metadata": {},
   "outputs": [
    {
     "data": {
      "text/plain": [
       "0    NaN\n",
       "3    NaN\n",
       "4    NaN\n",
       "5    NaN\n",
       "6    NaN\n",
       "Name: edition_information, dtype: object"
      ]
     },
     "execution_count": 18,
     "metadata": {},
     "output_type": "execute_result"
    }
   ],
   "source": [
    "df.edition_information.head()"
   ]
  },
  {
   "cell_type": "markdown",
   "metadata": {},
   "source": [
    "Para evitar el borrado de muchos libros de forma inncesaria se asigna el formato *unknown*."
   ]
  },
  {
   "cell_type": "code",
   "execution_count": 19,
   "metadata": {},
   "outputs": [
    {
     "data": {
      "text/plain": [
       "unknown           45514\n",
       "Large Print         196\n",
       "Second Edition      157\n",
       "First Edition        81\n",
       "Third Edition        66\n",
       "Name: edition_information, dtype: int64"
      ]
     },
     "execution_count": 19,
     "metadata": {},
     "output_type": "execute_result"
    }
   ],
   "source": [
    "df.edition_information = df.edition_information.fillna(value=\"unknown\")\n",
    "df.edition_information.value_counts().head()"
   ]
  },
  {
   "cell_type": "markdown",
   "metadata": {},
   "source": [
    "Se puede observar que en la mayoría de los casos no se ha propocionado información por lo que esta información puede terminar no siendo de utilidad. "
   ]
  },
  {
   "cell_type": "markdown",
   "metadata": {},
   "source": [
    "Sobre el campo **genres** se puede ver que es un campo con multivalores, por lo que el tratamiento que se hará en convertir el campo de generos a columnas, para ello se utiliza la función *get_dummies()* que genera tantas columnas como géneros haya.\n",
    "\n",
    "Por otra parte, también se observa que la columna cuenta con nulos:"
   ]
  },
  {
   "cell_type": "code",
   "execution_count": 20,
   "metadata": {},
   "outputs": [
    {
     "data": {
      "text/plain": [
       "12028"
      ]
     },
     "execution_count": 20,
     "metadata": {},
     "output_type": "execute_result"
    }
   ],
   "source": [
    "df.genres.isna().sum()"
   ]
  },
  {
   "cell_type": "markdown",
   "metadata": {},
   "source": [
    "En este caso, para el estudio sobre los géneros, interesa sustituir los valores nulos por el literal *unknown*. Se llevará a cabo haciendo una copia del dataframe, únicamente de la columna de interés, y así mantener el original intacto:"
   ]
  },
  {
   "cell_type": "code",
   "execution_count": 21,
   "metadata": {},
   "outputs": [
    {
     "name": "stdout",
     "output_type": "stream",
     "text": [
      "Nulos en la columna genres: 0\n"
     ]
    },
    {
     "data": {
      "text/html": [
       "<div>\n",
       "<style scoped>\n",
       "    .dataframe tbody tr th:only-of-type {\n",
       "        vertical-align: middle;\n",
       "    }\n",
       "\n",
       "    .dataframe tbody tr th {\n",
       "        vertical-align: top;\n",
       "    }\n",
       "\n",
       "    .dataframe thead th {\n",
       "        text-align: right;\n",
       "    }\n",
       "</style>\n",
       "<table border=\"1\" class=\"dataframe\">\n",
       "  <thead>\n",
       "    <tr style=\"text-align: right;\">\n",
       "      <th></th>\n",
       "      <th>genres</th>\n",
       "    </tr>\n",
       "  </thead>\n",
       "  <tbody>\n",
       "    <tr>\n",
       "      <th>0</th>\n",
       "      <td>adventure,childrens,classics,contemporary,fant...</td>\n",
       "    </tr>\n",
       "    <tr>\n",
       "      <th>3</th>\n",
       "      <td>adult,adult-fiction</td>\n",
       "    </tr>\n",
       "    <tr>\n",
       "      <th>4</th>\n",
       "      <td>biography,biography-memoir,non-fiction</td>\n",
       "    </tr>\n",
       "  </tbody>\n",
       "</table>\n",
       "</div>"
      ],
      "text/plain": [
       "                                              genres\n",
       "0  adventure,childrens,classics,contemporary,fant...\n",
       "3                                adult,adult-fiction\n",
       "4             biography,biography-memoir,non-fiction"
      ]
     },
     "execution_count": 21,
     "metadata": {},
     "output_type": "execute_result"
    }
   ],
   "source": [
    "df_genres = df[[\"genres\"]].copy()\n",
    "df_genres.fillna(value=\"unknown\", inplace=True)\n",
    "print(\"Nulos en la columna genres: {}\".format(df_genres.genres.isna().sum()))\n",
    "df_genres.head(3)"
   ]
  },
  {
   "cell_type": "markdown",
   "metadata": {},
   "source": [
    "Sobre el dataframe de estudio, se utiliza la función *get_dummies* que extraerá todos los géneros a columnas y se eliminará la columna original *genres*.\n",
    "\n",
    "Al ser una operación pesada, se vuelca el resultado en un csv y en posteriores ejecuciones se leerá del fichero en lugar de volver a generar los dummies."
   ]
  },
  {
   "cell_type": "code",
   "execution_count": 22,
   "metadata": {},
   "outputs": [],
   "source": [
    "# Código para generar los dummies\n",
    "\n",
    "# df_genres = df_genres.join(df_genres.genres.str.get_dummies(sep=\",\"))\n",
    "# df_genres.drop(columns=[\"genres\"], inplace=True)\n",
    "# df_genres.to_csv(\"genres.csv\", index=False)"
   ]
  },
  {
   "cell_type": "code",
   "execution_count": 23,
   "metadata": {},
   "outputs": [
    {
     "data": {
      "text/plain": [
       "Index(['id', 'title', 'publication_date', 'publisher', 'language_code',\n",
       "       'is_ebook', 'books_count', 'best_book_id', 'reviews_count',\n",
       "       'ratings_sum',\n",
       "       ...\n",
       "       'unknown', 'urban-fantasy', 'vampires', 'victorian', 'war',\n",
       "       'werewolves', 'witches', 'writing', 'young-adult', 'zombies'],\n",
       "      dtype='object', length=215)"
      ]
     },
     "execution_count": 23,
     "metadata": {},
     "output_type": "execute_result"
    }
   ],
   "source": [
    "df_genres = pd.read_csv(\"https://raw.githubusercontent.com/pedroortizgm/books-data-science/master/genres.csv\")\n",
    "df = df.join(df_genres)\n",
    "df.columns"
   ]
  },
  {
   "cell_type": "markdown",
   "metadata": {},
   "source": [
    "### Información sobre los usuarios <a class=\"anchor\" name=\"columnas-usuarios\"/>"
   ]
  },
  {
   "cell_type": "markdown",
   "metadata": {},
   "source": [
    "Las columnas **books_count** y **best_book_id** no tienen un valor relevante para este estudio por lo que se eliminan del set de datos."
   ]
  },
  {
   "cell_type": "code",
   "execution_count": 24,
   "metadata": {},
   "outputs": [],
   "source": [
    "df.drop(columns=[\"books_count\", \"best_book_id\"], inplace=True)"
   ]
  },
  {
   "cell_type": "markdown",
   "metadata": {},
   "source": [
    "Como se ha observado anteriormente, se comprueba si existen nulos en las columnas referidas a las valoraciones de los usuarios:"
   ]
  },
  {
   "cell_type": "code",
   "execution_count": 25,
   "metadata": {},
   "outputs": [
    {
     "name": "stdout",
     "output_type": "stream",
     "text": [
      "reviews_count: 0\n",
      "ratings_sum: 0\n",
      "ratings_count: 0\n",
      "text_reviews_count: 0\n",
      "text_reviews_count_global: 0\n",
      "num_ratings_5: 0\n",
      "num_ratings_4: 0\n",
      "num_ratings_3: 0\n",
      "num_ratings_2: 0\n",
      "num_ratings_1: 0\n",
      "average_rating: 0\n",
      "rating_count_global: 0\n"
     ]
    }
   ],
   "source": [
    "print(\"reviews_count: {}\".format(df.reviews_count.isna().sum()))\n",
    "print(\"ratings_sum: {}\".format(df.ratings_sum.isna().sum()))\n",
    "print(\"ratings_count: {}\".format(df.ratings_count.isna().sum()))\n",
    "print(\"text_reviews_count: {}\".format(df.text_reviews_count.isna().sum()))\n",
    "print(\"text_reviews_count_global: {}\".format(df.text_reviews_count_global.isna().sum()))\n",
    "print(\"num_ratings_5: {}\".format(df.num_ratings_5.isna().sum()))\n",
    "print(\"num_ratings_4: {}\".format(df.num_ratings_4.isna().sum()))\n",
    "print(\"num_ratings_3: {}\".format(df.num_ratings_3.isna().sum()))\n",
    "print(\"num_ratings_2: {}\".format(df.num_ratings_2.isna().sum()))\n",
    "print(\"num_ratings_1: {}\".format(df.num_ratings_1.isna().sum()))\n",
    "print(\"average_rating: {}\".format(df.average_rating.isna().sum()))\n",
    "print(\"rating_count_global: {}\".format(df.ratings_count_global.isna().sum()))"
   ]
  },
  {
   "cell_type": "markdown",
   "metadata": {},
   "source": [
    "Se analiza la columna **average_rating**. En caso de no tener valores, se deberían filtrar los registros que correspondan en una vista para hacer calculos. Por ejemplo, calcular los libros que tengan valoración por encima de la media.\n",
    "\n",
    "A priori, no se observan libros sin valoración media."
   ]
  },
  {
   "cell_type": "code",
   "execution_count": 26,
   "metadata": {},
   "outputs": [
    {
     "data": {
      "text/plain": [
       "0.0    5077\n",
       "4.0    2969\n",
       "3.0    1533\n",
       "5.0    1282\n",
       "3.5     883\n",
       "Name: average_rating, dtype: int64"
      ]
     },
     "execution_count": 26,
     "metadata": {},
     "output_type": "execute_result"
    }
   ],
   "source": [
    "df.average_rating.fillna(value=\"unknown\", inplace=True)\n",
    "df.average_rating.value_counts().head()"
   ]
  },
  {
   "cell_type": "markdown",
   "metadata": {},
   "source": [
    "A continuación se trata el campo **ratings_count_global**. Representa el total de valoraciones que ha recibido el libro.\n",
    "En caso de tener algun valor nulo, se reemplaza por cero."
   ]
  },
  {
   "cell_type": "code",
   "execution_count": 27,
   "metadata": {},
   "outputs": [],
   "source": [
    "df.ratings_count_global.fillna(value=0, inplace=True)"
   ]
  },
  {
   "cell_type": "markdown",
   "metadata": {},
   "source": [
    "Además, el tipo de datos es el correcto para un contador"
   ]
  },
  {
   "cell_type": "code",
   "execution_count": 28,
   "metadata": {},
   "outputs": [
    {
     "data": {
      "text/plain": [
       "dtype('int64')"
      ]
     },
     "execution_count": 28,
     "metadata": {},
     "output_type": "execute_result"
    }
   ],
   "source": [
    "df.ratings_count_global.dtype"
   ]
  },
  {
   "cell_type": "markdown",
   "metadata": {},
   "source": [
    "Las columnas **to_read**, **read**, **currently_reading** se interprentan como un contador con la gente que ha leído, está leyendo o va leer el libro, por lo que se establece que los valores nulos se sustituyen por 0."
   ]
  },
  {
   "cell_type": "code",
   "execution_count": 29,
   "metadata": {},
   "outputs": [],
   "source": [
    "df.to_read.fillna(value=0, inplace=True)\n",
    "df.read.fillna(value=0, inplace=True)\n",
    "df.currently_reading.fillna(value=0, inplace=True)"
   ]
  },
  {
   "cell_type": "markdown",
   "metadata": {},
   "source": [
    "Comprobamos que ya no tenemos valores nulos en esas columnas:"
   ]
  },
  {
   "cell_type": "code",
   "execution_count": 30,
   "metadata": {},
   "outputs": [
    {
     "name": "stdout",
     "output_type": "stream",
     "text": [
      "to_read: 0\n",
      "read: 0\n",
      "currently_reading: 0\n"
     ]
    }
   ],
   "source": [
    "print(\"to_read: {}\".format(df.to_read.isna().sum()))\n",
    "print(\"read: {}\".format(df.read.isna().sum()))\n",
    "print(\"currently_reading: {}\".format(df.currently_reading.isna().sum()))"
   ]
  },
  {
   "cell_type": "markdown",
   "metadata": {},
   "source": [
    "Una vez que tenemos todos los valores libres de nulos, podemos asignarle el tipo de dato que consideramos más correcto. En éste caso, dado que representa un número de personas, se expresan los resultados como números enteros"
   ]
  },
  {
   "cell_type": "code",
   "execution_count": 31,
   "metadata": {},
   "outputs": [],
   "source": [
    "df.to_read = df.to_read.astype('int64', copy=True)\n",
    "df.read = df.read.astype('int64', copy=True)\n",
    "df.currently_reading = df.currently_reading.astype('int64', copy=True)"
   ]
  },
  {
   "cell_type": "code",
   "execution_count": 32,
   "metadata": {},
   "outputs": [
    {
     "data": {
      "text/html": [
       "<div>\n",
       "<style scoped>\n",
       "    .dataframe tbody tr th:only-of-type {\n",
       "        vertical-align: middle;\n",
       "    }\n",
       "\n",
       "    .dataframe tbody tr th {\n",
       "        vertical-align: top;\n",
       "    }\n",
       "\n",
       "    .dataframe thead th {\n",
       "        text-align: right;\n",
       "    }\n",
       "</style>\n",
       "<table border=\"1\" class=\"dataframe\">\n",
       "  <thead>\n",
       "    <tr style=\"text-align: right;\">\n",
       "      <th></th>\n",
       "      <th>to_read</th>\n",
       "      <th>read</th>\n",
       "      <th>currently_reading</th>\n",
       "    </tr>\n",
       "  </thead>\n",
       "  <tbody>\n",
       "    <tr>\n",
       "      <th>0</th>\n",
       "      <td>230741</td>\n",
       "      <td>7503</td>\n",
       "      <td>22404</td>\n",
       "    </tr>\n",
       "    <tr>\n",
       "      <th>3</th>\n",
       "      <td>4</td>\n",
       "      <td>0</td>\n",
       "      <td>0</td>\n",
       "    </tr>\n",
       "    <tr>\n",
       "      <th>4</th>\n",
       "      <td>173</td>\n",
       "      <td>2</td>\n",
       "      <td>1</td>\n",
       "    </tr>\n",
       "    <tr>\n",
       "      <th>5</th>\n",
       "      <td>195745</td>\n",
       "      <td>971</td>\n",
       "      <td>10698</td>\n",
       "    </tr>\n",
       "    <tr>\n",
       "      <th>6</th>\n",
       "      <td>116</td>\n",
       "      <td>5</td>\n",
       "      <td>2</td>\n",
       "    </tr>\n",
       "  </tbody>\n",
       "</table>\n",
       "</div>"
      ],
      "text/plain": [
       "   to_read  read  currently_reading\n",
       "0   230741  7503              22404\n",
       "3        4     0                  0\n",
       "4      173     2                  1\n",
       "5   195745   971              10698\n",
       "6      116     5                  2"
      ]
     },
     "execution_count": 32,
     "metadata": {},
     "output_type": "execute_result"
    }
   ],
   "source": [
    "df[[\"to_read\", \"read\", \"currently_reading\"]].head()"
   ]
  },
  {
   "cell_type": "markdown",
   "metadata": {},
   "source": [
    "### Información sobre los autores <a class=\"anchor\" name=\"columnas-autores\"/>"
   ]
  },
  {
   "cell_type": "markdown",
   "metadata": {},
   "source": [
    "A continuación se tratan las columnas que tiene información sobre los autores, ilustradores, etc."
   ]
  },
  {
   "cell_type": "code",
   "execution_count": 33,
   "metadata": {},
   "outputs": [
    {
     "name": "stdout",
     "output_type": "stream",
     "text": [
      "authors: 3298\n",
      "illustrator: 46023\n",
      "contributor: 47576\n",
      "editor: 43773\n",
      "translator: 46017\n",
      "narrator: 48080\n"
     ]
    }
   ],
   "source": [
    "print(\"authors: {}\".format(df.authors.isna().sum()))\n",
    "print(\"illustrator: {}\".format(df.illustrator.isna().sum()))\n",
    "print(\"contributor: {}\".format(df.contributor.isna().sum()))\n",
    "print(\"editor: {}\".format(df.editor.isna().sum()))\n",
    "print(\"translator: {}\".format(df.translator.isna().sum()))\n",
    "print(\"narrator: {}\".format(df.narrator.isna().sum()))\n"
   ]
  },
  {
   "cell_type": "markdown",
   "metadata": {},
   "source": [
    "Para este caso, únicamente se van a tratar a los autores, puesto que el resto de campos tienen muchos valores nulos y no aportan mucho valor al análisis que se va a realizar.\n",
    "Los autores nulos se tratarán como libros anonimos."
   ]
  },
  {
   "cell_type": "code",
   "execution_count": 34,
   "metadata": {},
   "outputs": [
    {
     "data": {
      "text/plain": [
       "0"
      ]
     },
     "execution_count": 34,
     "metadata": {},
     "output_type": "execute_result"
    }
   ],
   "source": [
    "df.authors.fillna(value=\"anonymous\", inplace=True)\n",
    "df.authors.isna().sum()"
   ]
  },
  {
   "cell_type": "markdown",
   "metadata": {},
   "source": [
    "Para poder hacer operaciones con los autores, habría que realizar el mismo tratamiento que se ha hecho con los géneros. Al ser una operación muy pesada y no tener mucho valor para el análisis que se va a realizar a continuación, se prescinde de esta operación pero se deja en un notebook adicional (<a href=\"create_authors.ipynb\">create_authors.ipynb</a>) que habría que hacer para llevar a cabo esta operación."
   ]
  },
  {
   "cell_type": "code",
   "execution_count": 35,
   "metadata": {},
   "outputs": [],
   "source": [
    "# Código para tratar la variable *autores* multivaluada\n",
    "\n",
    "#df.join(df.genres.str.get_dummies(sep=\",\"))\n",
    "#df_authors = pd.read_csv(\"autores.csv\")\n",
    "#df = df.join(df_authors)\n",
    "#df.columns"
   ]
  },
  {
   "cell_type": "code",
   "execution_count": 36,
   "metadata": {},
   "outputs": [
    {
     "data": {
      "text/plain": [
       "(48193, 213)"
      ]
     },
     "execution_count": 36,
     "metadata": {},
     "output_type": "execute_result"
    }
   ],
   "source": [
    "df.shape"
   ]
  },
  {
   "cell_type": "markdown",
   "metadata": {},
   "source": [
    "## Distribución y Correlaciones <a class=\"anchor\" name=\"distribucion-correlacion\"/>"
   ]
  },
  {
   "cell_type": "markdown",
   "metadata": {},
   "source": [
    "Tras la limpieza de datos nulos, se muestra como ha quedado la tabla"
   ]
  },
  {
   "cell_type": "code",
   "execution_count": 37,
   "metadata": {},
   "outputs": [
    {
     "data": {
      "text/html": [
       "<div>\n",
       "<style scoped>\n",
       "    .dataframe tbody tr th:only-of-type {\n",
       "        vertical-align: middle;\n",
       "    }\n",
       "\n",
       "    .dataframe tbody tr th {\n",
       "        vertical-align: top;\n",
       "    }\n",
       "\n",
       "    .dataframe thead th {\n",
       "        text-align: right;\n",
       "    }\n",
       "</style>\n",
       "<table border=\"1\" class=\"dataframe\">\n",
       "  <thead>\n",
       "    <tr style=\"text-align: right;\">\n",
       "      <th></th>\n",
       "      <th>id</th>\n",
       "      <th>title</th>\n",
       "      <th>publication_date</th>\n",
       "      <th>publisher</th>\n",
       "      <th>language_code</th>\n",
       "      <th>is_ebook</th>\n",
       "      <th>reviews_count</th>\n",
       "      <th>ratings_sum</th>\n",
       "      <th>ratings_count</th>\n",
       "      <th>text_reviews_count</th>\n",
       "      <th>...</th>\n",
       "      <th>unknown</th>\n",
       "      <th>urban-fantasy</th>\n",
       "      <th>vampires</th>\n",
       "      <th>victorian</th>\n",
       "      <th>war</th>\n",
       "      <th>werewolves</th>\n",
       "      <th>witches</th>\n",
       "      <th>writing</th>\n",
       "      <th>young-adult</th>\n",
       "      <th>zombies</th>\n",
       "    </tr>\n",
       "  </thead>\n",
       "  <tbody>\n",
       "    <tr>\n",
       "      <th>0</th>\n",
       "      <td>1</td>\n",
       "      <td>Harry Potter and the Half-Blood Prince (Harry ...</td>\n",
       "      <td>2006/9/16</td>\n",
       "      <td>Scholastic Inc.</td>\n",
       "      <td>eng</td>\n",
       "      <td>False</td>\n",
       "      <td>2492832</td>\n",
       "      <td>9418917</td>\n",
       "      <td>2066190</td>\n",
       "      <td>33139</td>\n",
       "      <td>...</td>\n",
       "      <td>0.0</td>\n",
       "      <td>1.0</td>\n",
       "      <td>0.0</td>\n",
       "      <td>0.0</td>\n",
       "      <td>0.0</td>\n",
       "      <td>0.0</td>\n",
       "      <td>1.0</td>\n",
       "      <td>0.0</td>\n",
       "      <td>1.0</td>\n",
       "      <td>0.0</td>\n",
       "    </tr>\n",
       "    <tr>\n",
       "      <th>3</th>\n",
       "      <td>1501</td>\n",
       "      <td>The Essential Euripides</td>\n",
       "      <td>1995/1/1</td>\n",
       "      <td>Bolchazy-Carducci Publishers</td>\n",
       "      <td>unknown</td>\n",
       "      <td>False</td>\n",
       "      <td>12</td>\n",
       "      <td>38</td>\n",
       "      <td>8</td>\n",
       "      <td>0</td>\n",
       "      <td>...</td>\n",
       "      <td>0.0</td>\n",
       "      <td>0.0</td>\n",
       "      <td>0.0</td>\n",
       "      <td>1.0</td>\n",
       "      <td>0.0</td>\n",
       "      <td>0.0</td>\n",
       "      <td>0.0</td>\n",
       "      <td>0.0</td>\n",
       "      <td>1.0</td>\n",
       "      <td>0.0</td>\n",
       "    </tr>\n",
       "    <tr>\n",
       "      <th>4</th>\n",
       "      <td>2001</td>\n",
       "      <td>J.K. Rowling</td>\n",
       "      <td>2005/2/1</td>\n",
       "      <td>Mitchell Lane Publishers</td>\n",
       "      <td>unknown</td>\n",
       "      <td>False</td>\n",
       "      <td>289</td>\n",
       "      <td>380</td>\n",
       "      <td>93</td>\n",
       "      <td>2</td>\n",
       "      <td>...</td>\n",
       "      <td>0.0</td>\n",
       "      <td>0.0</td>\n",
       "      <td>0.0</td>\n",
       "      <td>0.0</td>\n",
       "      <td>0.0</td>\n",
       "      <td>0.0</td>\n",
       "      <td>0.0</td>\n",
       "      <td>0.0</td>\n",
       "      <td>0.0</td>\n",
       "      <td>0.0</td>\n",
       "    </tr>\n",
       "    <tr>\n",
       "      <th>5</th>\n",
       "      <td>2501</td>\n",
       "      <td>The Time Machine</td>\n",
       "      <td>2004/3/1</td>\n",
       "      <td>Scholastic Paperbacks</td>\n",
       "      <td>eng</td>\n",
       "      <td>False</td>\n",
       "      <td>596371</td>\n",
       "      <td>1374462</td>\n",
       "      <td>354053</td>\n",
       "      <td>9065</td>\n",
       "      <td>...</td>\n",
       "      <td>0.0</td>\n",
       "      <td>0.0</td>\n",
       "      <td>0.0</td>\n",
       "      <td>0.0</td>\n",
       "      <td>0.0</td>\n",
       "      <td>0.0</td>\n",
       "      <td>0.0</td>\n",
       "      <td>0.0</td>\n",
       "      <td>0.0</td>\n",
       "      <td>0.0</td>\n",
       "    </tr>\n",
       "    <tr>\n",
       "      <th>6</th>\n",
       "      <td>3001</td>\n",
       "      <td>The Secret Garden</td>\n",
       "      <td>1993/1/1</td>\n",
       "      <td>Theatre Communications Group</td>\n",
       "      <td>unknown</td>\n",
       "      <td>False</td>\n",
       "      <td>536</td>\n",
       "      <td>1557</td>\n",
       "      <td>364</td>\n",
       "      <td>12</td>\n",
       "      <td>...</td>\n",
       "      <td>0.0</td>\n",
       "      <td>0.0</td>\n",
       "      <td>0.0</td>\n",
       "      <td>0.0</td>\n",
       "      <td>1.0</td>\n",
       "      <td>0.0</td>\n",
       "      <td>0.0</td>\n",
       "      <td>0.0</td>\n",
       "      <td>0.0</td>\n",
       "      <td>0.0</td>\n",
       "    </tr>\n",
       "  </tbody>\n",
       "</table>\n",
       "<p>5 rows × 213 columns</p>\n",
       "</div>"
      ],
      "text/plain": [
       "     id                                              title publication_date  \\\n",
       "0     1  Harry Potter and the Half-Blood Prince (Harry ...        2006/9/16   \n",
       "3  1501                            The Essential Euripides         1995/1/1   \n",
       "4  2001                                       J.K. Rowling         2005/2/1   \n",
       "5  2501                                   The Time Machine         2004/3/1   \n",
       "6  3001                                  The Secret Garden         1993/1/1   \n",
       "\n",
       "                      publisher language_code  is_ebook  reviews_count  \\\n",
       "0               Scholastic Inc.           eng     False        2492832   \n",
       "3  Bolchazy-Carducci Publishers       unknown     False             12   \n",
       "4      Mitchell Lane Publishers       unknown     False            289   \n",
       "5         Scholastic Paperbacks           eng     False         596371   \n",
       "6  Theatre Communications Group       unknown     False            536   \n",
       "\n",
       "   ratings_sum  ratings_count  text_reviews_count  ... unknown urban-fantasy  \\\n",
       "0      9418917        2066190               33139  ...     0.0           1.0   \n",
       "3           38              8                   0  ...     0.0           0.0   \n",
       "4          380             93                   2  ...     0.0           0.0   \n",
       "5      1374462         354053                9065  ...     0.0           0.0   \n",
       "6         1557            364                  12  ...     0.0           0.0   \n",
       "\n",
       "  vampires  victorian  war  werewolves  witches  writing  young-adult  zombies  \n",
       "0      0.0        0.0  0.0         0.0      1.0      0.0          1.0      0.0  \n",
       "3      0.0        1.0  0.0         0.0      0.0      0.0          1.0      0.0  \n",
       "4      0.0        0.0  0.0         0.0      0.0      0.0          0.0      0.0  \n",
       "5      0.0        0.0  0.0         0.0      0.0      0.0          0.0      0.0  \n",
       "6      0.0        0.0  1.0         0.0      0.0      0.0          0.0      0.0  \n",
       "\n",
       "[5 rows x 213 columns]"
      ]
     },
     "execution_count": 37,
     "metadata": {},
     "output_type": "execute_result"
    }
   ],
   "source": [
    "df.head()"
   ]
  },
  {
   "cell_type": "markdown",
   "metadata": {},
   "source": [
    "Se importan las librerías necesarias para este apartado y se define una función útil para calcular colores en función de la serie que se desee tratar:"
   ]
  },
  {
   "cell_type": "code",
   "execution_count": 38,
   "metadata": {},
   "outputs": [],
   "source": [
    "import matplotlib.pyplot as plt\n",
    "from matplotlib import colors\n",
    "\n",
    "%matplotlib inline\n",
    "\n",
    "def bar_colors(ndarray):\n",
    "    \"\"\"Devuelve un array con los colores correspondientes\n",
    "    a los datos en ndarray\"\"\"\n",
    "    norm = colors.Normalize(ndarray.min(), ndarray.max())\n",
    "    return [plt.cm.viridis(norm(i)) for i in ndarray.values]"
   ]
  },
  {
   "cell_type": "markdown",
   "metadata": {},
   "source": [
    "## Fechas de publicación <a class=\"anchor\" name=\"fechas-de-publicacion\"/>"
   ]
  },
  {
   "cell_type": "markdown",
   "metadata": {},
   "source": [
    "Se obtiene el año de cada libro a partir del campo **original_publication_date** mapeando el campo a *datetime*, eliminando los nulos que tienen un formato erróneo y aplicando una *lambda* que extrae el campo año y se añade como una nueva columna **publication_year**"
   ]
  },
  {
   "cell_type": "code",
   "execution_count": 39,
   "metadata": {},
   "outputs": [],
   "source": [
    "years = pd.to_datetime(df.original_publication_date, errors=\"coerce\")\n",
    "years.dropna(inplace=True)\n",
    "years = years.apply(lambda x: int(x.year))\n",
    "df['publication_year'] = years"
   ]
  },
  {
   "cell_type": "markdown",
   "metadata": {},
   "source": [
    "Se comprueba cual es el valor máximo y mínimo de la serie:"
   ]
  },
  {
   "cell_type": "code",
   "execution_count": 40,
   "metadata": {},
   "outputs": [
    {
     "name": "stdout",
     "output_type": "stream",
     "text": [
      "Año más reciente: 2107\n",
      "Año más antiguo: 1678\n"
     ]
    }
   ],
   "source": [
    "print(\"Año más reciente: {}\".format(years.max()))\n",
    "print(\"Año más antiguo: {}\".format(years.min()))"
   ]
  },
  {
   "cell_type": "markdown",
   "metadata": {},
   "source": [
    "Se observa que existen libros cuya fecha original de publicación es el año 2068. Para acotar el estudio se decide eliminar aquellos libros con fecha de publicacion fuera de un rango determinado. "
   ]
  },
  {
   "cell_type": "code",
   "execution_count": 41,
   "metadata": {},
   "outputs": [],
   "source": [
    "is_older = (df.publication_year < 2020) & (df.publication_year > 1948) \n",
    "df = df[is_older]"
   ]
  },
  {
   "cell_type": "markdown",
   "metadata": {},
   "source": [
    "Se procede a agrupar los resultados por año de publicación:"
   ]
  },
  {
   "cell_type": "code",
   "execution_count": 42,
   "metadata": {},
   "outputs": [
    {
     "data": {
      "text/plain": [
       "publication_year\n",
       "1949.0    57\n",
       "1950.0    77\n",
       "1951.0    71\n",
       "1952.0    66\n",
       "1953.0    69\n",
       "Name: original_publication_date, dtype: int64"
      ]
     },
     "execution_count": 42,
     "metadata": {},
     "output_type": "execute_result"
    }
   ],
   "source": [
    "years = years.groupby(df[\"publication_year\"]).agg('count')\n",
    "years.head()"
   ]
  },
  {
   "cell_type": "markdown",
   "metadata": {},
   "source": [
    "A continuación se muestra esta información representada en un gráfico de barras:"
   ]
  },
  {
   "cell_type": "code",
   "execution_count": 43,
   "metadata": {
    "scrolled": false
   },
   "outputs": [
    {
     "data": {
      "image/png": "[encoded data removed]",
      "text/plain": [
       "<Figure size 1800x720 with 1 Axes>"
      ]
     },
     "metadata": {
      "needs_background": "light"
     },
     "output_type": "display_data"
    }
   ],
   "source": [
    "fig = plt.figure(figsize=(25,10))\n",
    "plt.bar(years.index, years.values, color=bar_colors(years))\n",
    "\n",
    "# Configuramos la figura\n",
    "plt.title('Publicaciones anuales')\n",
    "plt.xlabel('Fecha')\n",
    "plt.ylabel('Frecuencia (nº de libros)')\n",
    "plt.xticks(ticks=years.index, rotation='vertical')\n",
    "plt.grid()\n",
    "    \n",
    "plt.show()"
   ]
  },
  {
   "cell_type": "markdown",
   "metadata": {},
   "source": [
    "### Conclusiones"
   ]
  },
  {
   "cell_type": "code",
   "execution_count": 44,
   "metadata": {},
   "outputs": [
    {
     "name": "stdout",
     "output_type": "stream",
     "text": [
      "Tal y como se aprecia en la figura anterior, el año 2006 es el año con más publicaciones dentro de los datos obtenidos en el dataset.\n"
     ]
    }
   ],
   "source": [
    "max_publish_date = int(years[years == years.max()].index[0])\n",
    "print(\"Tal y como se aprecia en la figura anterior, el año {} es el año con más publicaciones dentro de los datos obtenidos en el dataset.\".format(max_publish_date))"
   ]
  },
  {
   "cell_type": "markdown",
   "metadata": {},
   "source": [
    "## Géneros <a class=\"anchor\" name=\"generos\"/>\n",
    "\n",
    "A continuación se estudiará la distribución de los genéros dentro del dataset objeto de estudio."
   ]
  },
  {
   "cell_type": "markdown",
   "metadata": {},
   "source": [
    "Se obtiene una Serie con el sumatorio de cada una de las columnas; Es decir, el número de libros asociados a cada uno de los géneros. Se ordena en orden descendente:"
   ]
  },
  {
   "cell_type": "code",
   "execution_count": 45,
   "metadata": {},
   "outputs": [
    {
     "data": {
      "text/plain": [
       "unknown               3271\n",
       "fiction               2731\n",
       "non-fiction           2025\n",
       "history               1442\n",
       "classics              1220\n",
       "novels                1118\n",
       "literature            1006\n",
       "historical-fiction     981\n",
       "adult                  965\n",
       "historical             941\n",
       "romance                937\n",
       "fantasy                896\n",
       "mystery                811\n",
       "contemporary           802\n",
       "adventure              718\n",
       "school                 669\n",
       "young-adult            634\n",
       "reference              620\n",
       "adult-fiction          615\n",
       "philosophy             583\n",
       "childrens              534\n",
       "biography              531\n",
       "drama                  521\n",
       "science                516\n",
       "humor                  474\n",
       "crime                  466\n",
       "unfinished             465\n",
       "literary-fiction       448\n",
       "thriller               448\n",
       "politics               440\n",
       "                      ... \n",
       "post-apocalyptic        53\n",
       "parenting               52\n",
       "tragedy                 50\n",
       "holiday                 49\n",
       "epic                    49\n",
       "time-travel             49\n",
       "aliens                  49\n",
       "regency                 48\n",
       "social-issues           45\n",
       "ghosts                  45\n",
       "new-adult               43\n",
       "true-crime              42\n",
       "demons                  41\n",
       "mental-illness          41\n",
       "class                   40\n",
       "social                  38\n",
       "abuse                   37\n",
       "marriage                37\n",
       "love-story              33\n",
       "retellings              33\n",
       "werewolves              28\n",
       "canon                   27\n",
       "superheroes             27\n",
       "shapeshifters           26\n",
       "steampunk               26\n",
       "angels                  24\n",
       "zombies                 20\n",
       "marvel                  14\n",
       "bdsm                    11\n",
       "menage                   7\n",
       "Length: 179, dtype: int64"
      ]
     },
     "execution_count": 45,
     "metadata": {},
     "output_type": "execute_result"
    }
   ],
   "source": [
    "s_genres = df_genres.sum()\n",
    "s_genres.sort_values(inplace=True, ascending=False)\n",
    "\n",
    "s_genres"
   ]
  },
  {
   "cell_type": "markdown",
   "metadata": {},
   "source": [
    "Con el objetivo de generar el gráfico de barras correspondiente a los géneros más populares históricamente, se reducirá la muestra a aquellos que pertenecen al cuarto cuartil, el 25% de elementos con mayor frecuencia:"
   ]
  },
  {
   "cell_type": "code",
   "execution_count": 46,
   "metadata": {},
   "outputs": [
    {
     "data": {
      "text/plain": [
       "263.5"
      ]
     },
     "execution_count": 46,
     "metadata": {},
     "output_type": "execute_result"
    }
   ],
   "source": [
    "min_val = s_genres.quantile(.75)\n",
    "min_val"
   ]
  },
  {
   "cell_type": "code",
   "execution_count": 47,
   "metadata": {},
   "outputs": [
    {
     "data": {
      "text/plain": [
       "array([3271, 2731, 2025, 1442, 1220, 1118, 1006,  981,  965,  941,  937,\n",
       "        896,  811,  802,  718,  669,  634,  620,  615,  583,  534,  531,\n",
       "        521,  516,  474,  466,  465,  448,  448,  440,  426,  426,  422,\n",
       "        391,  380,  355,  353,  343,  336,  305,  298,  291,  273,  268,\n",
       "        266])"
      ]
     },
     "execution_count": 47,
     "metadata": {},
     "output_type": "execute_result"
    }
   ],
   "source": [
    "s_genres = s_genres.loc[s_genres >= min_val]\n",
    "s_genres.values"
   ]
  },
  {
   "cell_type": "markdown",
   "metadata": {},
   "source": [
    "A continuación el gráfico con la información de los géneros:"
   ]
  },
  {
   "cell_type": "code",
   "execution_count": 48,
   "metadata": {},
   "outputs": [
    {
     "data": {
      "image/png": "[encoded data removed]",
      "text/plain": [
       "<Figure size 1440x216 with 1 Axes>"
      ]
     },
     "metadata": {
      "needs_background": "light"
     },
     "output_type": "display_data"
    }
   ],
   "source": [
    "fig = plt.figure(figsize=(20,3))\n",
    "plt.bar(s_genres.index, s_genres.values, color=bar_colors(s_genres))\n",
    "\n",
    "# Configuramos la figura\n",
    "plt.title('Géneros más populares')\n",
    "plt.xlabel('Géneros')\n",
    "plt.ylabel('Frecuencia')\n",
    "plt.xticks(rotation='vertical')\n",
    "plt.grid()\n",
    "\n",
    "plt.show()"
   ]
  },
  {
   "cell_type": "markdown",
   "metadata": {},
   "source": [
    "Por último, se muestra esta misma información, en esta ocasión con una nube de palabras:"
   ]
  },
  {
   "cell_type": "code",
   "execution_count": 49,
   "metadata": {},
   "outputs": [
    {
     "data": {
      "image/png": "[encoded data removed]",
      "text/plain": [
       "<Figure size 720x720 with 1 Axes>"
      ]
     },
     "metadata": {
      "needs_background": "light"
     },
     "output_type": "display_data"
    }
   ],
   "source": [
    "from wordcloud import WordCloud\n",
    "\n",
    "wordcloud = WordCloud(\n",
    "    background_color=\"white\",\n",
    "    max_font_size=40,\n",
    "    relative_scaling=.5,\n",
    "    stopwords=set([\"dtype\", \"int64\"])\n",
    ").generate(str(s_genres))\n",
    "\n",
    "plt.figure(figsize=(10,10))\n",
    "plt.imshow(wordcloud, interpolation=\"bilinear\")\n",
    "plt.axis(\"off\")\n",
    "plt.show()"
   ]
  },
  {
   "cell_type": "markdown",
   "metadata": {},
   "source": [
    "### Conclusiones\n",
    "\n",
    "Como se observa en ambas figuras, los 10 géneros más populares que aparecen en el dataset son:"
   ]
  },
  {
   "cell_type": "code",
   "execution_count": 50,
   "metadata": {},
   "outputs": [
    {
     "data": {
      "text/plain": [
       "unknown               3271\n",
       "fiction               2731\n",
       "non-fiction           2025\n",
       "history               1442\n",
       "classics              1220\n",
       "novels                1118\n",
       "literature            1006\n",
       "historical-fiction     981\n",
       "adult                  965\n",
       "historical             941\n",
       "dtype: int64"
      ]
     },
     "execution_count": 50,
     "metadata": {},
     "output_type": "execute_result"
    }
   ],
   "source": [
    "s_genres[:10]"
   ]
  },
  {
   "cell_type": "markdown",
   "metadata": {},
   "source": [
    "## Número de páginas <a class=\"anchor\" name=\"numero-de-paginas\"/>"
   ]
  },
  {
   "cell_type": "markdown",
   "metadata": {},
   "source": [
    "Se obtiene la serie sobre la que se va a realizar el estudio y se cambia el tipo a int64:"
   ]
  },
  {
   "cell_type": "code",
   "execution_count": 51,
   "metadata": {},
   "outputs": [
    {
     "data": {
      "text/plain": [
       "0    652\n",
       "3    555\n",
       "4     32\n",
       "6    120\n",
       "8    312\n",
       "Name: num_pages, dtype: int64"
      ]
     },
     "execution_count": 51,
     "metadata": {},
     "output_type": "execute_result"
    }
   ],
   "source": [
    "s_pages = df.num_pages.astype(np.int64)\n",
    "s_pages.head()"
   ]
  },
  {
   "cell_type": "markdown",
   "metadata": {},
   "source": [
    "Información estadística sobre el número de páginas de los libros:"
   ]
  },
  {
   "cell_type": "code",
   "execution_count": 52,
   "metadata": {},
   "outputs": [
    {
     "data": {
      "text/plain": [
       "count    45265.000000\n",
       "mean       280.846327\n",
       "std        369.419915\n",
       "min          1.000000\n",
       "25%        160.000000\n",
       "50%        251.000000\n",
       "75%        352.000000\n",
       "max      63987.000000\n",
       "Name: num_pages, dtype: float64"
      ]
     },
     "execution_count": 52,
     "metadata": {},
     "output_type": "execute_result"
    }
   ],
   "source": [
    "s_pages.describe()"
   ]
  },
  {
   "cell_type": "markdown",
   "metadata": {},
   "source": [
    "## Formatos <a class=\"anchor\" name=\"formatos\"/>"
   ]
  },
  {
   "cell_type": "markdown",
   "metadata": {},
   "source": [
    "El objetivo de este punto es analizar el dataset en función del formato de los libros. A continuación se obtiene el número de libros por cada formato:"
   ]
  },
  {
   "cell_type": "code",
   "execution_count": 53,
   "metadata": {},
   "outputs": [
    {
     "data": {
      "text/plain": [
       "Paperback                                             27175\n",
       "Hardcover                                             12348\n",
       "unknown                                                1731\n",
       "ebook                                                  1326\n",
       "Mass Market Paperback                                   948\n",
       "Unknown Binding                                         895\n",
       "Kindle Edition                                          151\n",
       "Audio CD                                                138\n",
       "Board Book                                              102\n",
       "Spiral-bound                                             80\n",
       "Board book                                               38\n",
       "Audiobook                                                35\n",
       "Library Binding                                          30\n",
       "Audio Cassette                                           20\n",
       "Trade Paperback                                          20\n",
       "Audible Audio                                            19\n",
       "Leather Bound                                            18\n",
       "paper                                                    16\n",
       "Audio                                                    10\n",
       "Novelty Book                                              8\n",
       "cloth                                                     8\n",
       "Loose-Leaf                                                8\n",
       "hardback                                                  7\n",
       "Unbound                                                   7\n",
       "paperback                                                 7\n",
       "Broché                                                    6\n",
       "MP3 CD                                                    6\n",
       "CD-ROM                                                    6\n",
       "Softcover                                                 4\n",
       "コミック                                                      4\n",
       "                                                      ...  \n",
       "Rag Book                                                  1\n",
       "Vinyl Bound                                               1\n",
       "Pocket                                                    1\n",
       "Comic                                                     1\n",
       "Leatherette Bound                                         1\n",
       "Spiral Bound                                              1\n",
       "Chapbook                                                  1\n",
       "softcover                                                 1\n",
       "Hardback                                                  1\n",
       "Brochura (Paperback)                                      1\n",
       "Comic Book                                                1\n",
       "hard cover                                                1\n",
       "hand-sewn chapbook                                        1\n",
       "12,7x18,5 rústica con cuadernillos cosidos al hilo        1\n",
       "audio cd                                                  1\n",
       "Foam Book                                                 1\n",
       "MP3 Audio                                                 1\n",
       "Webcomic                                                  1\n",
       "Graphic Novel                                             1\n",
       "Digital audio player                                      1\n",
       "paper back                                                1\n",
       "PB                                                        1\n",
       "Brossura                                                  1\n",
       " Ebook  /  Paperback                                      1\n",
       "Preloaded Digital Audio Player                            1\n",
       "Map                                                       1\n",
       "Plastic Comb                                              1\n",
       "Hard Cover                                                1\n",
       "Mass Market Paperback                                     1\n",
       "Stencils                                                  1\n",
       "Name: format, Length: 100, dtype: int64"
      ]
     },
     "execution_count": 53,
     "metadata": {},
     "output_type": "execute_result"
    }
   ],
   "source": [
    "s_format_count = df.format.value_counts()\n",
    "s_format_count"
   ]
  },
  {
   "cell_type": "markdown",
   "metadata": {},
   "source": [
    "A continuación se muestra el gráfico de barras con esta información:"
   ]
  },
  {
   "cell_type": "code",
   "execution_count": 54,
   "metadata": {},
   "outputs": [
    {
     "data": {
      "image/png": "[encoded data removed]",
      "text/plain": [
       "<Figure size 1080x360 with 1 Axes>"
      ]
     },
     "metadata": {
      "needs_background": "light"
     },
     "output_type": "display_data"
    }
   ],
   "source": [
    "fig = plt.figure(figsize=(15,5))\n",
    "plt.bar(s_format_count.index, s_format_count.values, color=bar_colors(s_format_count))\n",
    "\n",
    "# Configuramos la figura\n",
    "plt.title('Formato de los libros')\n",
    "plt.xlabel('Formato')\n",
    "plt.ylabel('Frecuencia')\n",
    "plt.xticks(ticks=s_format_count.index, rotation='vertical')\n",
    "plt.semilogy()\n",
    "plt.grid()\n",
    "    \n",
    "plt.show()"
   ]
  },
  {
   "cell_type": "markdown",
   "metadata": {},
   "source": [
    "### Conclusiones\n",
    "\n",
    "Tal y como muestra la figura anterior, los 10 formatos más comunes son:"
   ]
  },
  {
   "cell_type": "code",
   "execution_count": 55,
   "metadata": {},
   "outputs": [
    {
     "name": "stdout",
     "output_type": "stream",
     "text": [
      "1. Paperback\n",
      "2. Hardcover\n",
      "3. unknown\n",
      "4. ebook\n",
      "5. Mass Market Paperback\n",
      "6. Unknown Binding\n",
      "7. Kindle Edition\n",
      "8. Audio CD\n",
      "9. Board Book\n",
      "10. Spiral-bound\n"
     ]
    }
   ],
   "source": [
    "top_ten_rated = s_format_count.head(10).index\n",
    "for index, value in enumerate(top_ten_rated):\n",
    "    print(\"{}. {}\".format(index + 1, value))"
   ]
  },
  {
   "cell_type": "markdown",
   "metadata": {},
   "source": [
    "## Libros mejor valorados <a class=\"anchor\" name=\"libros-mejor-valorados\"/>"
   ]
  },
  {
   "cell_type": "markdown",
   "metadata": {},
   "source": [
    "En este punto se va a analizar los libros con mejor valoración del dataset.\n",
    "\n",
    "Para ello, se obtiene la vista del dataset compuesta por las columnas:\n",
    "* Título\n",
    "* Valoración media\n",
    "* Número de valoraciones\n",
    "* Suma de valoraciones\n",
    "\n",
    "Se ordenan los resultados en orden descendente y se muestran los primeros:"
   ]
  },
  {
   "cell_type": "code",
   "execution_count": 56,
   "metadata": {},
   "outputs": [
    {
     "data": {
      "text/plain": [
       "original_title\n",
       "Harry Potter and the Half-Blood Prince       2.206961e-06\n",
       "Harry Potter and the Order of the Phoenix    2.117601e-06\n",
       "Harry Potter and the Deathly Hallows         2.116263e-06\n",
       "The Kite Runner                              2.004729e-06\n",
       "Harry Potter and the Prisoner of Azkaban     1.969120e-06\n",
       "Harry Potter and the Chamber of Secrets      1.949302e-06\n",
       "Angels & Demons                              1.646526e-06\n",
       "Nineteen Eighty-Four                         1.641023e-06\n",
       "To Kill a Mockingbird                        1.103584e-06\n",
       "Twilight                                     8.170132e-07\n",
       "dtype: float64"
      ]
     },
     "execution_count": 56,
     "metadata": {},
     "output_type": "execute_result"
    }
   ],
   "source": [
    "def ratio_valoration(book):\n",
    "    return book.average_rating/book.ratings_count\n",
    "\n",
    "sorted_by_valoration = df[[\"original_title\", \"average_rating\", \"ratings_count\", \"ratings_sum\"]].sort_values(by=[\"ratings_sum\", \"average_rating\"], ascending=False).head(10)\n",
    "sorted_by_valoration[\"ratio_valoration\"] = sorted_by_valoration.aggregate(ratio_valoration, axis=\"columns\")\n",
    "\n",
    "best_ratings = pd.Series(sorted_by_valoration[\"ratio_valoration\"].values, index = sorted_by_valoration[\"original_title\"]).sort_values(ascending=False)\n",
    "best_ratings"
   ]
  },
  {
   "cell_type": "markdown",
   "metadata": {},
   "source": [
    "A continuación se muestra un gráfico de barras con la misma información:"
   ]
  },
  {
   "cell_type": "code",
   "execution_count": 57,
   "metadata": {
    "scrolled": false
   },
   "outputs": [
    {
     "data": {
      "image/png": "[encoded data removed]",
      "text/plain": [
       "<Figure size 1440x720 with 1 Axes>"
      ]
     },
     "metadata": {
      "needs_background": "light"
     },
     "output_type": "display_data"
    }
   ],
   "source": [
    "fig = plt.figure(figsize=(20,10))\n",
    "plt.bar(best_ratings.index, best_ratings.values, color=bar_colors(best_ratings))\n",
    "\n",
    "# Configuramos la figura\n",
    "plt.title('Libros mejor puntuados')\n",
    "plt.xlabel('Libros')\n",
    "plt.ylabel('Ratio valoración/cantidad')\n",
    "plt.xticks(rotation='vertical')\n",
    "plt.grid()\n",
    "\n",
    "plt.show()"
   ]
  },
  {
   "cell_type": "markdown",
   "metadata": {},
   "source": [
    "### Conclusiones\n",
    "\n",
    "La lista con los libros mejor valorados es:"
   ]
  },
  {
   "cell_type": "code",
   "execution_count": 58,
   "metadata": {},
   "outputs": [
    {
     "name": "stdout",
     "output_type": "stream",
     "text": [
      "1. Harry Potter and the Half-Blood Prince\n",
      "2. Harry Potter and the Order of the Phoenix\n",
      "3. Harry Potter and the Deathly Hallows\n",
      "4. The Kite Runner \n",
      "5. Harry Potter and the Prisoner of Azkaban\n",
      "6. Harry Potter and the Chamber of Secrets\n",
      "7. Angels & Demons\n",
      "8. Nineteen Eighty-Four\n",
      "9. To Kill a Mockingbird\n",
      "10. Twilight\n"
     ]
    }
   ],
   "source": [
    "top_ten_rated = best_ratings.head(10).index\n",
    "for index, value in enumerate(top_ten_rated):\n",
    "    print(\"{}. {}\".format(index + 1, value))"
   ]
  },
  {
   "cell_type": "markdown",
   "metadata": {},
   "source": [
    "## Preparación para el gráfico de burbujas <a class=\"anchor\" name=\"bubble-genres\"/>"
   ]
  },
  {
   "cell_type": "code",
   "execution_count": 59,
   "metadata": {},
   "outputs": [],
   "source": [
    "# Cargar el CSV con los super-géneros\n",
    "df_generos = pd.read_csv(\"https://raw.githubusercontent.com/pedroortizgm/books-data-science/master/generos.csv\")\n",
    "df_generos\n",
    "\n",
    "def get_super_genre(g):\n",
    "    \"\"\"Dado un genero *g* devuelve el supergénero al que pertenece\"\"\"\n",
    "    bool_df = df_generos.isin([g])\n",
    "    bool_supergenre = bool_df.any()\n",
    "    supergenre_index, = np.where(bool_supergenre == True)\n",
    "    return bool_supergenre[supergenre_index[0]: supergenre_index[0] + 1].index[0]"
   ]
  },
  {
   "cell_type": "code",
   "execution_count": 60,
   "metadata": {},
   "outputs": [],
   "source": [
    "def get_grouped_for_genre(df, g, max_year):\n",
    "    \"\"\"Agrupa la información de un genero por año.\n",
    "        * Recibe el género a buscar y el número total de años en el dataframe\n",
    "        * En primer lugar filtra el dataframe recibido por género\n",
    "        * Rellena los años perdidos\n",
    "        * Aplica la funcion f al set de datos agrupados\"\"\"\n",
    "    global_dict = {}\n",
    "    # Filtra el dataframe por género\n",
    "    df_g = df[g] == 1\n",
    "    subdataframe = df[df_g][[\"publication_year\", \"average_rating\", \"ratings_count\", \"num_pages\"]]\n",
    "    # Introduce los años que no ha habido publicaciones para no dejar huecos\n",
    "    min_year = subdataframe[\"publication_year\"].min().astype(dtype=np.int32)\n",
    "    year_dict = []\n",
    "    for year in range(min_year, max_year):\n",
    "        year_dict.append({\"publication_year\" : year, \"genre\": g})\n",
    "    year_df = pd.DataFrame(year_dict)\n",
    "    year_df[\"year\"] = year_df[\"publication_year\"].astype(dtype=np.int32)\n",
    "    subdataframe = pd.merge(subdataframe, year_df, on=\"publication_year\", how = \"outer\")\n",
    "    # Agrupa el dataframe por año aplicando la funcion f\n",
    "    grouped_by_year_genre = subdataframe.groupby(\"publication_year\")\n",
    "    grouped_by_year_genre = grouped_by_year_genre.apply(lambda x: f(x, g, global_dict))\n",
    "    grouped_by_year_genre.reset_index(level=0, inplace=True)\n",
    "    return grouped_by_year_genre"
   ]
  },
  {
   "cell_type": "code",
   "execution_count": 61,
   "metadata": {
    "scrolled": false
   },
   "outputs": [
    {
     "data": {
      "text/plain": [
       "(7345, 7)"
      ]
     },
     "execution_count": 61,
     "metadata": {},
     "output_type": "execute_result"
    }
   ],
   "source": [
    "def f(x, g, global_dict):\n",
    "    \"\"\"Se crea una funcion que se aplica a todas las agrupaciones por año.\n",
    "        * Esta función recibe, la agrupación, el género y un diccionario para ir agregando datos de años anteriores\n",
    "        * Como puede haber años donde no haya publicaciones del libro, se comprueba si no hay páginas ese año.\n",
    "        * Si hay páginas se calcula el nuevo valor a partir del anterior\n",
    "        * Si no hay páginas se propaga el valor anterior\n",
    "        * Si es la primera ocurrencia se inicializa el diccionario\"\"\"\n",
    "    if g in global_dict:\n",
    "        number_of_books = global_dict[g][\"number_of_books\"]\n",
    "        average_rating = global_dict[g][\"average_rating\"]\n",
    "        ratings_count = global_dict[g][\"ratings_count\"]\n",
    "        num_pages = global_dict[g][\"num_pages\"]\n",
    "        # puede que la serie agrupada por año no tenga valores \n",
    "        if x.num_pages.sum() > 0:\n",
    "            number_of_books += x.average_rating.size\n",
    "            average_rating = global_dict[g][\"average_rating\"] + (\n",
    "                (x.average_rating.mean() - global_dict[g][\"average_rating\"]) / number_of_books)\n",
    "            ratings_count += x.ratings_count.sum() \n",
    "            num_pages += x.num_pages.sum()\n",
    "        \n",
    "        global_dict[g] = {\n",
    "            \"average_rating\" : average_rating, \n",
    "            \"ratings_count\" : ratings_count, \n",
    "            \"num_pages\": num_pages,\n",
    "            \"number_of_books\": number_of_books,\n",
    "            \"genre\" : g,\n",
    "            \"supergenre\": get_super_genre(g)\n",
    "        }\n",
    "    else:\n",
    "        global_dict[g] = {\n",
    "            \"average_rating\" : x.average_rating.mean(), \n",
    "            \"ratings_count\" : x.ratings_count.sum(), \n",
    "            \"num_pages\": x.num_pages.sum(),\n",
    "            \"number_of_books\": x.average_rating.size,\n",
    "            \"genre\" : g,\n",
    "            \"supergenre\": get_super_genre(g)\n",
    "        }\n",
    "    return pd.Series(global_dict[g])\n",
    "\n",
    "genres_columns = [\"academic\", \"action\", \"aliens\", \"american\", \"animals\", \"anthropology\", \n",
    "                  \"adventure\", \"adult-fiction\", \"angels\", \"american-history\", \"nature\", \"art\", \n",
    "                  \"chick-lit\", \"dark\", \"demons\", \"americana\", \"movies\", \"business\", \"class\", \n",
    "                  \"death\", \"epic\", \"criticism\", \"picture-books\", \"cookbooks\", \"classic-literature\", \n",
    "                  \"erotica\", \"epic-fantasy\", \"christianity\", \"music\", \"cooking\", \"classics\", \"horror\", \n",
    "                  \"fairy-tales\", \"christian\", \"plays\", \"cultural\", \"christmas\", \"menage\", \"fantasy\", \n",
    "                  \"christian-fiction\", \"film\", \"economics\", \"comedy\", \"abuse\", \"ghosts\", \"gay\", \n",
    "                  \"education\", \"contemporary\", \"bdsm\", \"high-fantasy\", \"marriage\", \"faith\", \n",
    "                  \"cozy-mystery\", \"magic\", \"lgbt\", \"family\", \"crime\", \"magical-realism\",\n",
    "                  \"parenting\", \"feminism\", \"detective\", \"mythology\", \"queer\", \"food\", \"drama\", \n",
    "                  \"paranormal\", \"relationships\", \"health\", \"post-apocalyptic\", \n",
    "                  \"society\", \"funny\", \"science-fiction\", \"spirituality\", \"language\", \n",
    "                  \"historical\", \"science-fiction-fantasy\", \"inspirational\", \"leadership\", \n",
    "                  \"historical-fiction\", \"shapeshifters\", \"humor\", \"steampunk\", \n",
    "                  \"mental-health\", \"literary-fiction\", \"speculative-fiction\", \"mental-illness\", \n",
    "                  \"love\", \"superheroes\", \"personal-development\", \"love-story\", \"supernatural\", \n",
    "                  \"philosophy\", \"medieval\", \"time-travel\", \"politics\", \"modern\", \"urban-fantasy\", \n",
    "                  \"psychology\", \"modern-classics\", \"vampires\", \"reference\", \n",
    "                  \"werewolves\", \"religion\", \"mystery\", \"witches\", \"research\", \"mystery-thriller\", \n",
    "                  \"dystopia\", \"science\", \"social\", \"realistic-fiction\", \"self-help\", \n",
    "                  \"romance\", \"social-issues\", \"suspense\", \"sociology\", \"thriller\", \"sports\", \n",
    "                  \"true-crime\", \"survival\", \"tragedy\", \"teaching\", \"war\", \"technology\", \"gothic\", \n",
    "                  \"theology\", \"travel\", \"writing\", \"medical\"]\n",
    "df_books_by_genre_and_year = pd.DataFrame()\n",
    "max_year = df.publication_year.max().astype(dtype=np.int32)\n",
    "for g in genres_columns:\n",
    "    grouped_by_year_genre = get_grouped_for_genre(df, g, max_year)\n",
    "    df_books_by_genre_and_year = df_books_by_genre_and_year.append(grouped_by_year_genre, ignore_index=True)\n",
    "\n",
    "df_books_by_genre_and_year.to_csv('books_by_genre_and_year.csv', index=False)\n",
    "\n",
    "df_books_by_genre_and_year.shape"
   ]
  },
  {
   "cell_type": "markdown",
   "metadata": {},
   "source": [
    "<div style=\"width: 100%;\">\n",
    "    <div style=\"width: 33.33%; float: left;\">\n",
    "        &nbsp;\n",
    "    </div>\n",
    "    <div style=\"width: 33.33%; float: left; text-align: center\">\n",
    "        <span>David Julián Yela</span><br/>\n",
    "        <span>Daniel Mateo Serrano</span><br/>        \n",
    "        <span>Pedro Ortiz García-Miguel</span>\n",
    "    </div>\n",
    "    <div style=\"width: 33.33%; float: left; text-align: right\">\n",
    "        <a href=\"./graficos.ipynb\">Continuar a Gráficos</a>\n",
    "    </div>\n",
    "</div>"
   ]
  }
 ],
 "metadata": {
  "kernelspec": {
   "display_name": "Python 3",
   "language": "python",
   "name": "python3"
  },
  "language_info": {
   "codemirror_mode": {
    "name": "ipython",
    "version": 3
   },
   "file_extension": ".py",
   "mimetype": "text/x-python",
   "name": "python",
   "nbconvert_exporter": "python",
   "pygments_lexer": "ipython3",
   "version": "3.7.3"
  }
 },
 "nbformat": 4,
 "nbformat_minor": 2
}
