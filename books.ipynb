{
 "cells": [
  {
   "cell_type": "markdown",
   "metadata": {},
   "source": [
    "# Práctica: Fundamentos de Data Science\n",
    "\n",
    "Para la práctica de la asignatura de Fundamentos de Data Science, se va a analizar un conjunto de libros.\n",
    "La práctica se divide en 2 partes principales:\n",
    "* [**Análisis Exploratorio**](#analisis-exploratorio) En este punto se realiza el análisis estático del dataset obtenido, tratando los valores nulos y buscando las variables de interés, así como haciendo un breve contraste de hipótesis.\n",
    "* [**Machine Learning con BigML**](./books-bigml.ipynb) En este punto se emplea la herramienta online [BigML](https://bigml.com/) para realizar un entrenamiento supervisado y un entrenamiento no supervisado sobre el que obtener conclusiones.\n"
   ]
  },
  {
   "cell_type": "markdown",
   "metadata": {},
   "source": [
    "# Análisis Exploratorio <a class=\"anchor\" name=\"analisis-exploratorio\"/>"
   ]
  },
  {
   "cell_type": "markdown",
   "metadata": {},
   "source": [
    "## Tabla de contenidos:\n",
    "* [Descarga de datos](#descarga-datos)\n",
    "* [Carga inicial de los datos](#carga-inicial)\n",
    "* [Observación de valores nulos](#datos-nulos)\n",
    "    * [Identificadores](#columnas-identificadores)\n",
    "    * [Información](#columnas-informacion)\n",
    "    * [Usuarios](#columnas-usuarios)\n",
    "    * [Autores](#columnas-autores)\n",
    "* [Distribución y Correlaciones](#distribucion-correlacion)\n",
    "    * [Fechas de publicación](#fechas-de-publicacion)\n",
    "    * [Géneros](#generos)\n",
    "    * [Número de páginas](#numero-de-paginas)\n",
    "    * [Formatos](#formatos)\n",
    "    * [Libros mejor valorados](#libros-mejor-valorados)\n",
    "    * [Preparación para el gráfico de burbujas](#bubble-genres)"
   ]
  },
  {
   "cell_type": "markdown",
   "metadata": {},
   "source": [
    "## Descarga de datos <a class=\"anchor\" name=\"descarga-datos\"/>\n",
    "Para la descarga de datos, se ha optado por el uso de un API.\n",
    "En concreto se va a utilizar el API de goodreads, una página especializada en libros, con más de 85 millones de usuarios y más de 2.5 billones (americanos) de libros. ([https://www.goodreads.com/about/us](https://www.goodreads.com/about/us)).\n",
    "\n",
    "El API ([https://www.goodreads.com/api](https://www.goodreads.com/api)) disponde un endpoint REST en el que se puede obtener la información detallada de un libro por _ISBN_ o por un _ID_ propio de su sistema. \n",
    "Para el caso de esta práctica se ha hecho un script en python (<a href=\"goodreads.py\">*goodreads.py*</a>) que permite descargar la lista completa de libros en un fichero csv. \n",
    "\n",
    "Para facilitar el uso del notebook, se proporciorna un fichero csv con los libros descargados previamente: _books.csv_ \n",
    "\n",
    "Para usar el script bastaría con lanzar el comando: `python3 goodreads.py` \n",
    "\n",
    "Este script acepta parametros de entrada, como desde que libro hasta que libro se quiere ir, y cuantos libros se quieren saltar entre cada libro. `python3 goodreads.py -o FILENAME -s START_BOOK -e END_BOOK -l SKIP_BOOKS` \n",
    "\n",
    "Debido a la inmensa cantidad de libros se ha precalculado un listado de libros para no tener que hacer uso del script en la evaluación. Se ha generado un fichero _books_expanded.csv_ con unos XXXXXX libros, aunque supongan un porcentaje pequeño del total de libros disponibles en la plataforma http://www.goodreads.com"
   ]
  },
  {
   "cell_type": "markdown",
   "metadata": {},
   "source": [
    "## Carga inicial de los datos <a class=\"anchor\" name=\"carga-inicial\"/>\n",
    "\n",
    "Se carga en memoria mediante pandas el dataset de libros almancenado en _books.csv_. \n",
    "\n",
    "Adicionalmente se obtiene la primera información sobre los datos que contine el dataset. "
   ]
  },
  {
   "cell_type": "code",
   "execution_count": null,
   "metadata": {},
   "outputs": [],
   "source": [
    "import pandas as pd\n",
    "\n",
    "df = pd.read_csv(\"https://raw.githubusercontent.com/pedroortizgm/books-data-science/master/books_complete.csv\", error_bad_lines=False)\n",
    "df.shape"
   ]
  },
  {
   "cell_type": "code",
   "execution_count": null,
   "metadata": {},
   "outputs": [],
   "source": [
    "df.head()"
   ]
  },
  {
   "cell_type": "markdown",
   "metadata": {},
   "source": [
    "## Observación de valores nulos <a class=\"anchor\" name=\"datos-nulos\"/>\n",
    "El siguiente paso es observar los datos, los valores que toman y si hay valores nulos. \n",
    "\n",
    "Para cada una de las columnas del dataset se identifica si tienen valores nulos y cuántos hay en cada uno y la acción a tomar en cada caso.\n"
   ]
  },
  {
   "cell_type": "markdown",
   "metadata": {},
   "source": [
    "Con los tipos y la muestra, se puede deducir la información de cada columna:\n",
    "\n",
    "| Columna | Tipo | Observaciones | Tipo de Campo |\n",
    "| --- | --- | --- | --- |\n",
    "| id | int64 | ID en GoodReads | Identificador |\n",
    "| isbn | object |  ISBN | Identificador |\n",
    "| title | object |  Titulo | Información |\n",
    "| isbn13 | float64 | Codigo ISBN de 13 digitos |  Identificador |\n",
    "| asin | object | Identificador del libro en Amazon |  Identificador |\n",
    "| kindle_asin | float64 | Codigo Kindle |  Identificador |\n",
    "| marketplace_id | float64 | Código del mercado |  Identificador |\n",
    "| country_code | object |  Código de País | Información |\n",
    "| publication_date | object |  Fecha de publicación | Información | \n",
    "| publisher | object | Publicador/Editorial | Información |\n",
    "| language_code | object | Código de idioma de la publicación | Información |\n",
    "| is_ebook | bool | Es un E-Book | Información |\n",
    "| books_count | int64 | ? | Usuarios |\n",
    "| best_book_id | int64 | ? | Usuarios |\n",
    "| reviews_count | int64 | Número de opiniones | Usuarios |\n",
    "| ratings_sum | int64 | Sumatorio de las puntuaciones | Usuarios |\n",
    "| ratings_count | int64 | Número de puntuaciones | Usuarios |\n",
    "| text_reviews_count | int64 | Número de opiniones escritas | Usuarios |\n",
    "| original_publication_date | object | Fecha de publicación original | Informacion |\n",
    "| original_title | object| Titulo original | Informacion |\n",
    "| media_type | object | Tipo de medio | Información |\n",
    "| num_ratings_5 | int64 | Número de veces que han puntuado con un 5 | Usuarios |\n",
    "| num_ratings_4 | int64 | Número de veces que han puntuado con un 4 | Usuarios |\n",
    "| num_ratings_3 | int64 | Número de veces que han puntuado con un 3 | Usuarios |\n",
    "| num_ratings_2 | int64 | Número de veces que han puntuado con un 2 | Usuarios |\n",
    "| num_ratings_1 | int64 | Número de veces que han puntuado con un 1 | Usuarios |\n",
    "| average_rating | float64 | Valoración media | Usuarios |\n",
    "| num_pages | float64 | Número de páginas | Información |\n",
    "| format | object | Formato | Información |\n",
    "| edition_information | object  | Informacíón sobre la edición | Información |\n",
    "| ratings_count_global | int64  | Número de valoraciones total | Usuarios |\n",
    "| text_reviews_count_global | int64 | Número de reseñas total | Usuarios |\n",
    "| authors | object | Autor | Autores |\n",
    "| illustrator | object | Ilustrador | Autores | \n",
    "| contributor | object | Constribuidor | Autores |\n",
    "| editor | object | Editor | Autores |\n",
    "| translator | object | Traductor | Autores |\n",
    "| narrator | object | Narrador | Autores |\n",
    "| to_read | float64 | Número de personas que lo quieren leer | Usuarios |\n",
    "| read | int64 | Número de personas que lo han leído | Usuarios |\n",
    "| currently_reading | float64 | Número de personas que lo están leyendo | Usuarios |\n",
    "| genres | object | Lista de géneros | Información |\n",
    "\n",
    "Adicionalmente se ha identificado a qué hace referencia cada columna:\n",
    "* Identificador : Identificadores del libro\n",
    "* Información: Información sobre el libro o la edición\n",
    "* Usuarios: Información sobre las valoraciones de los usuarios, reseñas, etc.\n",
    "* Autores: Información sobre los creadores del libro"
   ]
  },
  {
   "cell_type": "markdown",
   "metadata": {},
   "source": [
    "Se observa cuántos valores nulos contiene cada columna."
   ]
  },
  {
   "cell_type": "code",
   "execution_count": null,
   "metadata": {},
   "outputs": [],
   "source": [
    "df.isna().sum()"
   ]
  },
  {
   "cell_type": "markdown",
   "metadata": {},
   "source": [
    "### Información sobre los identificadores <a class=\"anchor\" name=\"columnas-identificadores\"/>"
   ]
  },
  {
   "cell_type": "markdown",
   "metadata": {},
   "source": [
    "Se eliminarán todos los registros que no contengan **isbn** o **isbn13**. Dado que se trata de los identificadores del libro, ayudará a eliminar aquellos de los que no se disponen todos los datos."
   ]
  },
  {
   "cell_type": "code",
   "execution_count": null,
   "metadata": {},
   "outputs": [],
   "source": [
    "df.drop(columns = [\"isbn\", \"isbn13\"], inplace=True)"
   ]
  },
  {
   "cell_type": "markdown",
   "metadata": {},
   "source": [
    "Las columnas **asin**, **kindel_asin** y **marketplace_id** apenas tienen valores, por lo que no parece que vayan a ser estadísticamente relevantes. Se eliminan del dataset:"
   ]
  },
  {
   "cell_type": "code",
   "execution_count": null,
   "metadata": {},
   "outputs": [],
   "source": [
    "df.drop(columns = ['asin', 'kindle_asin', 'marketplace_id'], inplace=True)"
   ]
  },
  {
   "cell_type": "markdown",
   "metadata": {},
   "source": [
    "### Información sobre el libro <a class=\"anchor\" name=\"columnas-informacion\"/>"
   ]
  },
  {
   "cell_type": "markdown",
   "metadata": {},
   "source": [
    "Se observa que todos los libros tienen título (**title**) y prácticamente todos tienen **original_title**. Se suprimen los libros que no tienen alguno de esos dos campos debido al gran volumen de información que tenemos y así poder mezclar mejor los datos."
   ]
  },
  {
   "cell_type": "code",
   "execution_count": null,
   "metadata": {},
   "outputs": [],
   "source": [
    "df.dropna(subset=[\"title\", \"original_title\"], inplace=True)"
   ]
  },
  {
   "cell_type": "markdown",
   "metadata": {},
   "source": [
    "Además se eliminan libros duplicados , esto es que compartan el campo **original_title**."
   ]
  },
  {
   "cell_type": "code",
   "execution_count": null,
   "metadata": {},
   "outputs": [],
   "source": [
    "df.drop_duplicates(subset=[\"original_title\"], inplace=True)"
   ]
  },
  {
   "cell_type": "markdown",
   "metadata": {},
   "source": [
    "Las columna **country_code** no contiene nulos pero se ve que todos los valores son iguales por lo que podría ser eliminada."
   ]
  },
  {
   "cell_type": "code",
   "execution_count": null,
   "metadata": {},
   "outputs": [],
   "source": [
    "df.country_code.unique()"
   ]
  },
  {
   "cell_type": "code",
   "execution_count": null,
   "metadata": {},
   "outputs": [],
   "source": [
    "df.drop(columns = ['country_code'], inplace=True)"
   ]
  },
  {
   "cell_type": "markdown",
   "metadata": {},
   "source": [
    "Existen dos columnas relacionadas con las fechas de publicación, **publication_date** y **original_publication_date**. Para comprobar cuál es más interesante para el estudio, se analizan los nulos en cada una de ellas.\n",
    "\n",
    "Debido a que hay pocos libros con fecha original de publicación nula (*original_publication_date*) y se considera que es un campo importante sobre el que hacer muestreo y obtener información, se toma la decisión de borrarlos."
   ]
  },
  {
   "cell_type": "code",
   "execution_count": null,
   "metadata": {},
   "outputs": [],
   "source": [
    "print(\"publication_date\", df.publication_date.isna().sum())\n",
    "print(\"original_publication_date\", df.original_publication_date.isna().sum())\n",
    "df.dropna(subset=[\"original_publication_date\"], inplace=True)\n",
    "print(\"publication_date\", df.publication_date.isna().sum())\n",
    "print(\"original_publication_date\", df.original_publication_date.isna().sum())"
   ]
  },
  {
   "cell_type": "markdown",
   "metadata": {},
   "source": [
    "Tanto la columna **publisher** como **language_code** contienen nulos y deben ser tratados como *unkown* en lugar de como nulos, dado que es una información que no ha sido proporcionada."
   ]
  },
  {
   "cell_type": "code",
   "execution_count": null,
   "metadata": {},
   "outputs": [],
   "source": [
    "df.publisher.fillna(value=\"unknown\", inplace=True)\n",
    "df.language_code.fillna(value=\"unknown\", inplace=True)"
   ]
  },
  {
   "cell_type": "markdown",
   "metadata": {},
   "source": [
    "La columna **is_ebook** no contine nulos y tiene un valor boolean en el que indica si un libro está en formato electrónico o no."
   ]
  },
  {
   "cell_type": "code",
   "execution_count": null,
   "metadata": {},
   "outputs": [],
   "source": [
    "df.is_ebook.unique()"
   ]
  },
  {
   "cell_type": "markdown",
   "metadata": {},
   "source": [
    "Parece que la columna **media_type** tiene nulos, se obtienen los valores únicos:"
   ]
  },
  {
   "cell_type": "code",
   "execution_count": null,
   "metadata": {},
   "outputs": [],
   "source": [
    "df[\"media_type\"].unique()"
   ]
  },
  {
   "cell_type": "markdown",
   "metadata": {},
   "source": [
    "Se reemplazan los libros con **media_type** *NaN* por *unknown*:"
   ]
  },
  {
   "cell_type": "code",
   "execution_count": null,
   "metadata": {},
   "outputs": [],
   "source": [
    "df.media_type.fillna(value='unknown', inplace=True)\n",
    "df.media_type.unique()"
   ]
  },
  {
   "cell_type": "markdown",
   "metadata": {},
   "source": [
    "Se eliminan los libros que, o bien no tienen **número de páginas**, o su valor es menor o igual que cero."
   ]
  },
  {
   "cell_type": "code",
   "execution_count": null,
   "metadata": {},
   "outputs": [],
   "source": [
    "import numpy as np\n",
    "df.loc[(df.num_pages < 0) | (df.num_pages == 0), \"num_pages\"] = np.nan\n",
    "df.dropna(subset=[\"num_pages\"], inplace=True)\n",
    "df.num_pages.isna().sum()"
   ]
  },
  {
   "cell_type": "markdown",
   "metadata": {},
   "source": [
    "Se analiza la columna **format** y se observan valores nulos."
   ]
  },
  {
   "cell_type": "code",
   "execution_count": null,
   "metadata": {},
   "outputs": [],
   "source": [
    "df.format.unique()"
   ]
  },
  {
   "cell_type": "markdown",
   "metadata": {},
   "source": [
    "Para evitar el borrado de muchos libros de forma innecesaria, a todos los libros que no tengan un formato especificado se les asigna el formato *unknown*."
   ]
  },
  {
   "cell_type": "code",
   "execution_count": null,
   "metadata": {},
   "outputs": [],
   "source": [
    "df.format = df.format.fillna(value=\"unknown\")"
   ]
  },
  {
   "cell_type": "markdown",
   "metadata": {},
   "source": [
    "Del mismo modo que la columna anterior, se analiza la columna **edition_information** y se tratan los valores nulos. "
   ]
  },
  {
   "cell_type": "code",
   "execution_count": null,
   "metadata": {},
   "outputs": [],
   "source": [
    "df.edition_information.head()"
   ]
  },
  {
   "cell_type": "markdown",
   "metadata": {},
   "source": [
    "Para evitar el borrado de muchos libros de forma inncesaria se asigna el formato *unknown*."
   ]
  },
  {
   "cell_type": "code",
   "execution_count": null,
   "metadata": {},
   "outputs": [],
   "source": [
    "df.edition_information = df.edition_information.fillna(value=\"unknown\")\n",
    "df.edition_information.value_counts().head()"
   ]
  },
  {
   "cell_type": "markdown",
   "metadata": {},
   "source": [
    "Se puede observar que en la mayoría de los casos no se ha propocionado información por lo que esta información puede terminar no siendo de utilidad. "
   ]
  },
  {
   "cell_type": "markdown",
   "metadata": {},
   "source": [
    "Sobre el campo **genres** se puede ver que es un campo con multivalores, por lo que el tratamiento que se hará en convertir el campo de generos a columnas, para ello se utiliza la función *get_dummies()* que genera tantas columnas como géneros haya.\n",
    "\n",
    "Por otra parte, también se observa que la columna cuenta con nulos:"
   ]
  },
  {
   "cell_type": "code",
   "execution_count": null,
   "metadata": {},
   "outputs": [],
   "source": [
    "df.genres.isna().sum()"
   ]
  },
  {
   "cell_type": "markdown",
   "metadata": {},
   "source": [
    "En este caso, para el estudio sobre los géneros, interesa sustituir los valores nulos por el literal *unknown*. Se llevará a cabo haciendo una copia del dataframe, únicamente de la columna de interés, y así mantener el original intacto:"
   ]
  },
  {
   "cell_type": "code",
   "execution_count": null,
   "metadata": {},
   "outputs": [],
   "source": [
    "df_genres = df[[\"genres\"]].copy()\n",
    "df_genres.fillna(value=\"unknown\", inplace=True)\n",
    "print(\"Nulos en la columna genres: {}\".format(df_genres.genres.isna().sum()))\n",
    "df_genres.head(3)"
   ]
  },
  {
   "cell_type": "markdown",
   "metadata": {},
   "source": [
    "Sobre el dataframe de estudio, se utiliza la función *get_dummies* que extraerá todos los géneros a columnas y se eliminará la columna original *genres*.\n",
    "\n",
    "Al ser una operación pesada, se vuelca el resultado en un csv y en posteriores ejecuciones se leerá del fichero en lugar de volver a generar los dummies."
   ]
  },
  {
   "cell_type": "code",
   "execution_count": null,
   "metadata": {},
   "outputs": [],
   "source": [
    "# Código para generar los dummies\n",
    "\n",
    "# df_genres = df_genres.join(df_genres.genres.str.get_dummies(sep=\",\"))\n",
    "# df_genres.drop(columns=[\"genres\"], inplace=True)\n",
    "# df_genres.to_csv(\"genres.csv\", index=False)"
   ]
  },
  {
   "cell_type": "code",
   "execution_count": null,
   "metadata": {},
   "outputs": [],
   "source": [
    "df_genres = pd.read_csv(\"https://raw.githubusercontent.com/pedroortizgm/books-data-science/master/genres.csv\")\n",
    "df = df.join(df_genres)\n",
    "df.columns"
   ]
  },
  {
   "cell_type": "markdown",
   "metadata": {},
   "source": [
    "### Información sobre los usuarios <a class=\"anchor\" name=\"columnas-usuarios\"/>"
   ]
  },
  {
   "cell_type": "markdown",
   "metadata": {},
   "source": [
    "Las columnas **books_count** y **best_book_id** no tienen un valor relevante para este estudio por lo que se eliminan del set de datos."
   ]
  },
  {
   "cell_type": "code",
   "execution_count": null,
   "metadata": {},
   "outputs": [],
   "source": [
    "df.drop(columns=[\"books_count\", \"best_book_id\"], inplace=True)"
   ]
  },
  {
   "cell_type": "markdown",
   "metadata": {},
   "source": [
    "Como se ha observado anteriormente, se comprueba si existen nulos en las columnas referidas a las valoraciones de los usuarios:"
   ]
  },
  {
   "cell_type": "code",
   "execution_count": null,
   "metadata": {},
   "outputs": [],
   "source": [
    "print(\"reviews_count: {}\".format(df.reviews_count.isna().sum()))\n",
    "print(\"ratings_sum: {}\".format(df.ratings_sum.isna().sum()))\n",
    "print(\"ratings_count: {}\".format(df.ratings_count.isna().sum()))\n",
    "print(\"text_reviews_count: {}\".format(df.text_reviews_count.isna().sum()))\n",
    "print(\"text_reviews_count_global: {}\".format(df.text_reviews_count_global.isna().sum()))\n",
    "print(\"num_ratings_5: {}\".format(df.num_ratings_5.isna().sum()))\n",
    "print(\"num_ratings_4: {}\".format(df.num_ratings_4.isna().sum()))\n",
    "print(\"num_ratings_3: {}\".format(df.num_ratings_3.isna().sum()))\n",
    "print(\"num_ratings_2: {}\".format(df.num_ratings_2.isna().sum()))\n",
    "print(\"num_ratings_1: {}\".format(df.num_ratings_1.isna().sum()))\n",
    "print(\"average_rating: {}\".format(df.average_rating.isna().sum()))\n",
    "print(\"rating_count_global: {}\".format(df.ratings_count_global.isna().sum()))"
   ]
  },
  {
   "cell_type": "markdown",
   "metadata": {},
   "source": [
    "Se analiza la columna **average_rating**. En caso de no tener valores, se deberían filtrar los registros que correspondan en una vista para hacer calculos. Por ejemplo, calcular los libros que tengan valoración por encima de la media.\n",
    "\n",
    "A priori, no se observan libros sin valoración media."
   ]
  },
  {
   "cell_type": "code",
   "execution_count": null,
   "metadata": {},
   "outputs": [],
   "source": [
    "df.average_rating.fillna(value=\"unknow\", inplace=True)\n",
    "df.average_rating.value_counts().head()"
   ]
  },
  {
   "cell_type": "markdown",
   "metadata": {},
   "source": [
    "A continuación se trata el campo **ratings_count_global**. Representa el total de valoraciones que ha recibido el libro.\n",
    "En caso de tener algun valor nulo, se reemplaza por cero."
   ]
  },
  {
   "cell_type": "code",
   "execution_count": null,
   "metadata": {},
   "outputs": [],
   "source": [
    "df.ratings_count_global.fillna(value=0, inplace=True)"
   ]
  },
  {
   "cell_type": "markdown",
   "metadata": {},
   "source": [
    "Además, el tipo de datos es el correcto para un contador"
   ]
  },
  {
   "cell_type": "code",
   "execution_count": null,
   "metadata": {},
   "outputs": [],
   "source": [
    "df.ratings_count_global.dtype"
   ]
  },
  {
   "cell_type": "markdown",
   "metadata": {},
   "source": [
    "Las columnas **to_read**, **read**, **currently_reading** se interprentan como un contador con la gente que ha leído, está leyendo o va leer el libro, por lo que se establece que los valores nulos se sustituyen por 0."
   ]
  },
  {
   "cell_type": "code",
   "execution_count": null,
   "metadata": {},
   "outputs": [],
   "source": [
    "df.to_read.fillna(value=0, inplace=True)\n",
    "df.read.fillna(value=0, inplace=True)\n",
    "df.currently_reading.fillna(value=0, inplace=True)"
   ]
  },
  {
   "cell_type": "markdown",
   "metadata": {},
   "source": [
    "Comprobamos que ya no tenemos valores nulos en esas columnas:"
   ]
  },
  {
   "cell_type": "code",
   "execution_count": null,
   "metadata": {},
   "outputs": [],
   "source": [
    "print(\"to_read: {}\".format(df.to_read.isna().sum()))\n",
    "print(\"read: {}\".format(df.read.isna().sum()))\n",
    "print(\"currently_reading: {}\".format(df.currently_reading.isna().sum()))"
   ]
  },
  {
   "cell_type": "markdown",
   "metadata": {},
   "source": [
    "Una vez que tenemos todos los valores libres de nulos, podemos asignarle el tipo de dato que consideramos más correcto. En éste caso, dado que representa un número de personas, se expresan los resultados como números enteros"
   ]
  },
  {
   "cell_type": "code",
   "execution_count": null,
   "metadata": {},
   "outputs": [],
   "source": [
    "df.to_read = df.to_read.astype('int64', copy=True)\n",
    "df.read = df.read.astype('int64', copy=True)\n",
    "df.currently_reading = df.currently_reading.astype('int64', copy=True)"
   ]
  },
  {
   "cell_type": "code",
   "execution_count": null,
   "metadata": {},
   "outputs": [],
   "source": [
    "df[[\"to_read\", \"read\", \"currently_reading\"]].head()"
   ]
  },
  {
   "cell_type": "markdown",
   "metadata": {},
   "source": [
    "### Información sobre los autores <a class=\"anchor\" name=\"columnas-autores\"/>"
   ]
  },
  {
   "cell_type": "markdown",
   "metadata": {},
   "source": [
    "A continuación se tratan las columnas que tiene información sobre los autores, ilustradores, etc."
   ]
  },
  {
   "cell_type": "code",
   "execution_count": null,
   "metadata": {},
   "outputs": [],
   "source": [
    "print(\"authors: {}\".format(df.authors.isna().sum()))\n",
    "print(\"illustrator: {}\".format(df.illustrator.isna().sum()))\n",
    "print(\"contributor: {}\".format(df.contributor.isna().sum()))\n",
    "print(\"editor: {}\".format(df.editor.isna().sum()))\n",
    "print(\"translator: {}\".format(df.translator.isna().sum()))\n",
    "print(\"narrator: {}\".format(df.narrator.isna().sum()))\n"
   ]
  },
  {
   "cell_type": "markdown",
   "metadata": {},
   "source": [
    "Para este caso, únicamente se van a tratar a los autores, puesto que el resto de campos tienen muchos valores nulos y no aportan mucho valor al análisis que se va a realizar.\n",
    "Los autores nulos se tratarán como libros anonimos."
   ]
  },
  {
   "cell_type": "code",
   "execution_count": null,
   "metadata": {},
   "outputs": [],
   "source": [
    "df.authors.fillna(value=\"anonymous\", inplace=True)\n",
    "df.authors.isna().sum()"
   ]
  },
  {
   "cell_type": "markdown",
   "metadata": {},
   "source": [
    "Para poder hacer operaciones con los autores, habría que realizar el mismo tratamiento que se ha hecho con los géneros. Al ser una operación muy pesada y no tener mucho valor para el análisis que se va a realizar a continuación, se prescinde de esta operación pero se deja en un notebook adicional (<a href=\"create_authors.ipynb\">create_authors.ipynb</a>) que habría que hacer para llevar a cabo esta operación."
   ]
  },
  {
   "cell_type": "code",
   "execution_count": null,
   "metadata": {},
   "outputs": [],
   "source": [
    "# Código para tratar la variable *autores* multivaluada\n",
    "\n",
    "#df.join(df.genres.str.get_dummies(sep=\",\"))\n",
    "#df_authors = pd.read_csv(\"autores.csv\")\n",
    "#df = df.join(df_authors)\n",
    "#df.columns"
   ]
  },
  {
   "cell_type": "code",
   "execution_count": null,
   "metadata": {},
   "outputs": [],
   "source": [
    "df.shape"
   ]
  },
  {
   "cell_type": "markdown",
   "metadata": {},
   "source": [
    "## Distribución y Correlaciones <a class=\"anchor\" name=\"distribucion-correlacion\"/>"
   ]
  },
  {
   "cell_type": "markdown",
   "metadata": {},
   "source": [
    "Tras la limpieza de datos nulos, se muestra como ha quedado la tabla"
   ]
  },
  {
   "cell_type": "code",
   "execution_count": null,
   "metadata": {},
   "outputs": [],
   "source": [
    "df.head()"
   ]
  },
  {
   "cell_type": "markdown",
   "metadata": {},
   "source": [
    "Se importan las librerías necesarias para este apartado y se define una función útil para calcular colores en función de la serie que se desee tratar:"
   ]
  },
  {
   "cell_type": "code",
   "execution_count": null,
   "metadata": {},
   "outputs": [],
   "source": [
    "import matplotlib.pyplot as plt\n",
    "from matplotlib import colors\n",
    "\n",
    "%matplotlib inline\n",
    "\n",
    "def bar_colors(ndarray):\n",
    "    \"\"\"Devuelve un array con los colores correspondientes\n",
    "    a los datos en ndarray\"\"\"\n",
    "    norm = colors.Normalize(ndarray.min(), ndarray.max())\n",
    "    return [plt.cm.viridis(norm(i)) for i in ndarray.values]"
   ]
  },
  {
   "cell_type": "markdown",
   "metadata": {},
   "source": [
    "## Fechas de publicación <a class=\"anchor\" name=\"fechas-de-publicacion\"/>"
   ]
  },
  {
   "cell_type": "markdown",
   "metadata": {},
   "source": [
    "Se obtiene el año de cada libro a partir del campo **original_publication_date** mapeando el campo a *datetime*, eliminando los nulos que tienen un formato erróneo y aplicando una *lambda* que extrae el campo año y se añade como una nueva columna **publication_year**"
   ]
  },
  {
   "cell_type": "code",
   "execution_count": null,
   "metadata": {},
   "outputs": [],
   "source": [
    "years = pd.to_datetime(df.original_publication_date, errors=\"coerce\")\n",
    "years.dropna(inplace=True)\n",
    "years = years.apply(lambda x: int(x.year))\n",
    "df['publication_year'] = years"
   ]
  },
  {
   "cell_type": "markdown",
   "metadata": {},
   "source": [
    "Se comprueba cual es el valor máximo y mínimo de la serie:"
   ]
  },
  {
   "cell_type": "code",
   "execution_count": null,
   "metadata": {},
   "outputs": [],
   "source": [
    "print(\"Año más reciente: {}\".format(years.max()))\n",
    "print(\"Año más antiguo: {}\".format(years.min()))"
   ]
  },
  {
   "cell_type": "markdown",
   "metadata": {},
   "source": [
    "Se observa que existen libros cuya fecha original de publicación es el año 2068. Para acotar el estudio se decide eliminar aquellos libros con fecha de publicacion fuera de un rango determinado. "
   ]
  },
  {
   "cell_type": "code",
   "execution_count": null,
   "metadata": {},
   "outputs": [],
   "source": [
    "is_older = (df.publication_year < 2020) & (df.publication_year > 1948) \n",
    "df = df[is_older]"
   ]
  },
  {
   "cell_type": "markdown",
   "metadata": {},
   "source": [
    "Se procede a agrupar los resultados por año de publicación:"
   ]
  },
  {
   "cell_type": "code",
   "execution_count": null,
   "metadata": {},
   "outputs": [],
   "source": [
    "years = years.groupby(df[\"publication_year\"]).agg('count')\n",
    "years.head()"
   ]
  },
  {
   "cell_type": "markdown",
   "metadata": {},
   "source": [
    "A continuación se muestra esta información representada en un gráfico de barras:"
   ]
  },
  {
   "cell_type": "code",
   "execution_count": null,
   "metadata": {
    "scrolled": false
   },
   "outputs": [],
   "source": [
    "fig = plt.figure(figsize=(25,10))\n",
    "plt.bar(years.index, years.values, color=bar_colors(years))\n",
    "\n",
    "# Configuramos la figura\n",
    "plt.title('Publicaciones anuales')\n",
    "plt.xlabel('Fecha')\n",
    "plt.ylabel('Frecuencia (nº de libros)')\n",
    "plt.xticks(ticks=years.index, rotation='vertical')\n",
    "plt.grid()\n",
    "    \n",
    "plt.show()"
   ]
  },
  {
   "cell_type": "markdown",
   "metadata": {},
   "source": [
    "### Conclusiones"
   ]
  },
  {
   "cell_type": "code",
   "execution_count": null,
   "metadata": {},
   "outputs": [],
   "source": [
    "max_publish_date = int(years[years == years.max()].index[0])\n",
    "print(\"Tal y como se aprecia en la figura anterior, el año {} es el año con más publicaciones dentro de los datos obtenidos en el dataset.\".format(max_publish_date))"
   ]
  },
  {
   "cell_type": "markdown",
   "metadata": {},
   "source": [
    "## Géneros <a class=\"anchor\" name=\"generos\"/>\n",
    "\n",
    "A continuación se estudiará la distribución de los genéros dentro del dataset objeto de estudio."
   ]
  },
  {
   "cell_type": "markdown",
   "metadata": {},
   "source": [
    "Se obtiene una Serie con el sumatorio de cada una de las columnas; Es decir, el número de libros asociados a cada uno de los géneros. Se ordena en orden descendente:"
   ]
  },
  {
   "cell_type": "code",
   "execution_count": null,
   "metadata": {},
   "outputs": [],
   "source": [
    "s_genres = df_genres.sum()\n",
    "s_genres.sort_values(inplace=True, ascending=False)\n",
    "\n",
    "s_genres"
   ]
  },
  {
   "cell_type": "markdown",
   "metadata": {},
   "source": [
    "Con el objetivo de generar el gráfico de barras correspondiente a los géneros más populares históricamente, se reducirá la muestra a aquellos que pertenecen al cuarto cuartil, el 25% de elementos con mayor frecuencia:"
   ]
  },
  {
   "cell_type": "code",
   "execution_count": null,
   "metadata": {},
   "outputs": [],
   "source": [
    "min_val = s_genres.quantile(.75)\n",
    "min_val"
   ]
  },
  {
   "cell_type": "code",
   "execution_count": null,
   "metadata": {},
   "outputs": [],
   "source": [
    "s_genres = s_genres.loc[s_genres >= min_val]\n",
    "s_genres.values"
   ]
  },
  {
   "cell_type": "markdown",
   "metadata": {},
   "source": [
    "A continuación el gráfico con la información de los géneros:"
   ]
  },
  {
   "cell_type": "code",
   "execution_count": null,
   "metadata": {},
   "outputs": [],
   "source": [
    "fig = plt.figure(figsize=(20,3))\n",
    "plt.bar(s_genres.index, s_genres.values, color=bar_colors(s_genres))\n",
    "\n",
    "# Configuramos la figura\n",
    "plt.title('Géneros más populares')\n",
    "plt.xlabel('Géneros')\n",
    "plt.ylabel('Frecuencia')\n",
    "plt.xticks(rotation='vertical')\n",
    "plt.grid()\n",
    "\n",
    "plt.show()"
   ]
  },
  {
   "cell_type": "markdown",
   "metadata": {},
   "source": [
    "Por último, se muestra esta misma información, en esta ocasión con una nube de palabras:"
   ]
  },
  {
   "cell_type": "code",
   "execution_count": null,
   "metadata": {},
   "outputs": [],
   "source": [
    "from wordcloud import WordCloud\n",
    "\n",
    "wordcloud = WordCloud(\n",
    "    background_color=\"white\",\n",
    "    max_font_size=40,\n",
    "    relative_scaling=.5,\n",
    "    stopwords=set([\"dtype\", \"int64\"])\n",
    ").generate(str(s_genres))\n",
    "\n",
    "plt.figure(figsize=(10,10))\n",
    "plt.imshow(wordcloud, interpolation=\"bilinear\")\n",
    "plt.axis(\"off\")\n",
    "plt.show()"
   ]
  },
  {
   "cell_type": "markdown",
   "metadata": {},
   "source": [
    "### Conclusiones\n",
    "\n",
    "Como se observa en ambas figuras, los 10 géneros más populares que aparecen en el dataset son:"
   ]
  },
  {
   "cell_type": "code",
   "execution_count": null,
   "metadata": {},
   "outputs": [],
   "source": [
    "s_genres[:10]"
   ]
  },
  {
   "cell_type": "markdown",
   "metadata": {},
   "source": [
    "## Número de páginas <a class=\"anchor\" name=\"numero-de-paginas\"/>"
   ]
  },
  {
   "cell_type": "markdown",
   "metadata": {},
   "source": [
    "Se obtiene la serie sobre la que se va a realizar el estudio y se cambia el tipo a int64:"
   ]
  },
  {
   "cell_type": "code",
   "execution_count": null,
   "metadata": {},
   "outputs": [],
   "source": [
    "s_pages = df.num_pages.astype(np.int64)\n",
    "s_pages.head()"
   ]
  },
  {
   "cell_type": "markdown",
   "metadata": {},
   "source": [
    "Información estadística sobre el número de páginas de los libros:"
   ]
  },
  {
   "cell_type": "code",
   "execution_count": null,
   "metadata": {},
   "outputs": [],
   "source": [
    "s_pages.describe()"
   ]
  },
  {
   "cell_type": "markdown",
   "metadata": {},
   "source": [
    "## Formatos <a class=\"anchor\" name=\"formatos\"/>"
   ]
  },
  {
   "cell_type": "markdown",
   "metadata": {},
   "source": [
    "El objetivo de este punto es analizar el dataset en función del formato de los libros. A continuación se obtiene el número de libros por cada formato:"
   ]
  },
  {
   "cell_type": "code",
   "execution_count": null,
   "metadata": {},
   "outputs": [],
   "source": [
    "s_format_count = df.format.value_counts()\n",
    "s_format_count"
   ]
  },
  {
   "cell_type": "markdown",
   "metadata": {},
   "source": [
    "A continuación se muestra el gráfico de barras con esta información:"
   ]
  },
  {
   "cell_type": "code",
   "execution_count": null,
   "metadata": {},
   "outputs": [],
   "source": [
    "fig = plt.figure(figsize=(15,5))\n",
    "plt.bar(s_format_count.index, s_format_count.values, color=bar_colors(s_format_count))\n",
    "\n",
    "# Configuramos la figura\n",
    "plt.title('Formato de los libros')\n",
    "plt.xlabel('Formato')\n",
    "plt.ylabel('Frecuencia')\n",
    "plt.xticks(ticks=s_format_count.index, rotation='vertical')\n",
    "plt.semilogy()\n",
    "plt.grid()\n",
    "    \n",
    "plt.show()"
   ]
  },
  {
   "cell_type": "markdown",
   "metadata": {},
   "source": [
    "### Conclusiones\n",
    "\n",
    "Tal y como muestra la figura anterior, los 10 formatos más comunes son:"
   ]
  },
  {
   "cell_type": "code",
   "execution_count": null,
   "metadata": {},
   "outputs": [],
   "source": [
    "top_ten_rated = s_format_count.head(10).index\n",
    "for index, value in enumerate(top_ten_rated):\n",
    "    print(\"{}. {}\".format(index + 1, value))"
   ]
  },
  {
   "cell_type": "markdown",
   "metadata": {},
   "source": [
    "## Libros mejor valorados <a class=\"anchor\" name=\"libros-mejor-valorados\"/>"
   ]
  },
  {
   "cell_type": "markdown",
   "metadata": {},
   "source": [
    "En este punto se va a analizar los libros con mejor valoración del dataset.\n",
    "\n",
    "Para ello, se obtiene la vista del dataset compuesta por las columnas:\n",
    "* Título\n",
    "* Valoración media\n",
    "* Número de valoraciones\n",
    "* Suma de valoraciones\n",
    "\n",
    "Se ordenan los resultados en orden descendente y se muestran los primeros:"
   ]
  },
  {
   "cell_type": "code",
   "execution_count": null,
   "metadata": {},
   "outputs": [],
   "source": [
    "def ratio_valoration(book):\n",
    "    return book.average_rating/book.ratings_count\n",
    "\n",
    "sorted_by_valoration = df[[\"original_title\", \"average_rating\", \"ratings_count\", \"ratings_sum\"]].sort_values(by=[\"ratings_sum\", \"average_rating\"], ascending=False).head(10)\n",
    "sorted_by_valoration[\"ratio_valoration\"] = sorted_by_valoration.aggregate(ratio_valoration, axis=\"columns\")\n",
    "\n",
    "best_ratings = pd.Series(sorted_by_valoration[\"ratio_valoration\"].values, index = sorted_by_valoration[\"original_title\"]).sort_values(ascending=False)\n",
    "best_ratings"
   ]
  },
  {
   "cell_type": "markdown",
   "metadata": {},
   "source": [
    "A continuación se muestra un gráfico de barras con la misma información:"
   ]
  },
  {
   "cell_type": "code",
   "execution_count": null,
   "metadata": {
    "scrolled": false
   },
   "outputs": [],
   "source": [
    "fig = plt.figure(figsize=(20,10))\n",
    "plt.bar(best_ratings.index, best_ratings.values, color=bar_colors(best_ratings))\n",
    "\n",
    "# Configuramos la figura\n",
    "plt.title('Libros mejor puntuados')\n",
    "plt.xlabel('Libros')\n",
    "plt.ylabel('Ratio valoración/cantidad')\n",
    "plt.xticks(rotation='vertical')\n",
    "plt.grid()\n",
    "\n",
    "plt.show()"
   ]
  },
  {
   "cell_type": "markdown",
   "metadata": {},
   "source": [
    "### Conclusiones\n",
    "\n",
    "La lista con los libros mejor valorados es:"
   ]
  },
  {
   "cell_type": "code",
   "execution_count": null,
   "metadata": {},
   "outputs": [],
   "source": [
    "top_ten_rated = best_ratings.head(10).index\n",
    "for index, value in enumerate(top_ten_rated):\n",
    "    print(\"{}. {}\".format(index + 1, value))"
   ]
  },
  {
   "cell_type": "markdown",
   "metadata": {},
   "source": [
    "## Preparación para el gráfico de burbujas <a class=\"anchor\" name=\"bubble-genres\"/>"
   ]
  },
  {
   "cell_type": "code",
   "execution_count": null,
   "metadata": {},
   "outputs": [],
   "source": [
    "# Cargar el CSV con los super-géneros\n",
    "df_generos = pd.read_csv(\"https://raw.githubusercontent.com/pedroortizgm/books-data-science/master/generos.csv\")\n",
    "df_generos\n",
    "\n",
    "def get_super_genre(g):\n",
    "    \"\"\"Dado un genero *g* devuelve el supergénero al que pertenece\"\"\"\n",
    "    bool_df = df_generos.isin([g])\n",
    "    bool_supergenre = bool_df.any()\n",
    "    supergenre_index, = np.where(bool_supergenre == True)\n",
    "    return bool_supergenre[supergenre_index[0]: supergenre_index[0] + 1].index[0]"
   ]
  },
  {
   "cell_type": "code",
   "execution_count": null,
   "metadata": {},
   "outputs": [],
   "source": [
    "def get_grouped_for_genre(df, g, max_year):\n",
    "    \"\"\"Agrupa la información de un genero por año.\n",
    "        * Recibe el género a buscar y el número total de años en el dataframe\n",
    "        * En primer lugar filtra el dataframe recibido por género\n",
    "        * Rellena los años perdidos\n",
    "        * Aplica la funcion f al set de datos agrupados\"\"\"\n",
    "    global_dict = {}\n",
    "    # Filtra el dataframe por género\n",
    "    df_g = df[g] == 1\n",
    "    subdataframe = df[df_g][[\"publication_year\", \"average_rating\", \"ratings_count\", \"num_pages\"]]\n",
    "    # Introduce los años que no ha habido publicaciones para no dejar huecos\n",
    "    min_year = subdataframe.publication_year.min().astype(dtype=np.int32)\n",
    "    year_dict = []\n",
    "    for year in range(min_year, max_year):\n",
    "        year_dict.append({\"publication_year\" : year, \"genre\": g})\n",
    "    year_df = pd.DataFrame(year_dict)\n",
    "    year_df.year = year_df.publication_year.astype(dtype=np.int32)\n",
    "    subdataframe = pd.merge(subdataframe, year_df, on=\"publication_year\", how = \"outer\")\n",
    "    # Agrupa el dataframe por año aplicando la funcion f\n",
    "    grouped_by_year_genre = subdataframe.groupby(\"publication_year\")\n",
    "    grouped_by_year_genre = grouped_by_year_genre.apply(lambda x: f(x, g, global_dict))\n",
    "    grouped_by_year_genre.reset_index(level=0, inplace=True)\n",
    "    return grouped_by_year_genre"
   ]
  },
  {
   "cell_type": "code",
   "execution_count": null,
   "metadata": {
    "scrolled": false
   },
   "outputs": [],
   "source": [
    "def f(x, g, global_dict):\n",
    "    \"\"\"Se crea una funcion que se aplica a todas las agrupaciones por año.\n",
    "        * Esta función recibe, la agrupación, el género y un diccionario para ir agregando datos de años anteriores\n",
    "        * Como puede haber años donde no haya publicaciones del libro, se comprueba si no hay páginas ese año.\n",
    "        * Si hay páginas se calcula el nuevo valor a partir del anterior\n",
    "        * Si no hay páginas se propaga el valor anterior\n",
    "        * Si es la primera ocurrencia se inicializa el diccionario\"\"\"\n",
    "    if g in global_dict:\n",
    "        number_of_books = global_dict[g][\"number_of_books\"]\n",
    "        average_rating = global_dict[g][\"average_rating\"]\n",
    "        ratings_count = global_dict[g][\"ratings_count\"]\n",
    "        num_pages = global_dict[g][\"num_pages\"]\n",
    "        # puede que la serie agrupada por año no tenga valores \n",
    "        if x.num_pages.sum() > 0:\n",
    "            number_of_books += x.average_rating.size\n",
    "            average_rating = global_dict[g][\"average_rating\"] + (\n",
    "                (x.average_rating.mean() - global_dict[g][\"average_rating\"]) / number_of_books)\n",
    "            ratings_count += x.ratings_count.sum() \n",
    "            num_pages += x.num_pages.sum()\n",
    "        \n",
    "        global_dict[g] = {\n",
    "            \"average_rating\" : average_rating, \n",
    "            \"ratings_count\" : ratings_count, \n",
    "            \"num_pages\": num_pages,\n",
    "            \"number_of_books\": number_of_books,\n",
    "            \"genre\" : g,\n",
    "            \"supergenre\": get_super_genre(g)\n",
    "        }\n",
    "    else:\n",
    "        global_dict[g] = {\n",
    "            \"average_rating\" : x.average_rating.mean(), \n",
    "            \"ratings_count\" : x.ratings_count.sum(), \n",
    "            \"num_pages\": x.num_pages.sum(),\n",
    "            \"number_of_books\": x.average_rating.size,\n",
    "            \"genre\" : g,\n",
    "            \"supergenre\": get_super_genre(g)\n",
    "        }\n",
    "    return pd.Series(global_dict[g])\n",
    "\n",
    "    \n",
    "\n",
    "#genres_columns = df.columns[37:214]\n",
    "# removed genres \"adult\", \"fiction\", \"non-fiction\", \"literature\", \"history\", \n",
    "genres_columns = [\"academic\", \"action\", \"aliens\", \"american\", \"animals\", \"anthropology\", \n",
    "                  \"adventure\", \"adult-fiction\", \"angels\", \"american-history\", \"nature\", \"art\", \n",
    "                  \"chick-lit\", \"dark\", \"demons\", \"americana\", \"movies\", \"business\", \"class\", \n",
    "                  \"death\", \"epic\", \"criticism\", \"picture-books\", \"cookbooks\", \"classic-literature\", \n",
    "                  \"erotica\", \"epic-fantasy\", \"christianity\", \"music\", \"cooking\", \"classics\", \"horror\", \n",
    "                  \"fairy-tales\", \"christian\", \"plays\", \"cultural\", \"christmas\", \"menage\", \"fantasy\", \n",
    "                  \"christian-fiction\", \"film\", \"economics\", \"comedy\", \"abuse\", \"ghosts\", \"gay\", \n",
    "                  \"education\", \"contemporary\", \"bdsm\", \"high-fantasy\", \"marriage\", \"faith\", \n",
    "                  \"cozy-mystery\", \"magic\", \"lgbt\", \"family\", \"crime\", \"magical-realism\",\n",
    "                  \"parenting\", \"feminism\", \"detective\", \"mythology\", \"queer\", \"food\", \"drama\", \n",
    "                  \"paranormal\", \"relationships\", \"health\", \"post-apocalyptic\", \n",
    "                  \"society\", \"funny\", \"science-fiction\", \"spirituality\", \"language\", \n",
    "                  \"historical\", \"science-fiction-fantasy\", \"inspirational\", \"leadership\", \n",
    "                  \"historical-fiction\", \"shapeshifters\", \"humor\", \"steampunk\", \n",
    "                  \"mental-health\", \"literary-fiction\", \"speculative-fiction\", \"mental-illness\", \n",
    "                  \"love\", \"superheroes\", \"personal-development\", \"love-story\", \"supernatural\", \n",
    "                  \"philosophy\", \"medieval\", \"time-travel\", \"politics\", \"modern\", \"urban-fantasy\", \n",
    "                  \"psychology\", \"modern-classics\", \"vampires\", \"reference\", \n",
    "                  \"werewolves\", \"religion\", \"mystery\", \"witches\", \"research\", \"mystery-thriller\", \n",
    "                  \"dystopia\", \"science\", \"social\", \"realistic-fiction\", \"self-help\", \n",
    "                  \"romance\", \"social-issues\", \"suspense\", \"sociology\", \"thriller\", \"sports\", \n",
    "                  \"true-crime\", \"survival\", \"tragedy\", \"teaching\", \"war\", \"technology\", \"gothic\", \n",
    "                  \"theology\", \"travel\", \"writing\", \"medical\"]\n",
    "df_books_by_genre_and_year = pd.DataFrame()\n",
    "max_year = df.publication_year.max().astype(dtype=np.int32)\n",
    "#genres_columns\n",
    "for g in genres_columns:\n",
    "    grouped_by_year_genre = get_grouped_for_genre(df, g, max_year)\n",
    "    df_books_by_genre_and_year = df_books_by_genre_and_year.append(grouped_by_year_genre)\n",
    "\n",
    "df_books_by_genre_and_year.to_csv('books_by_genre_and_year.csv')\n",
    "\n",
    "df_books_by_genre_and_year.shape"
   ]
  },
  {
   "cell_type": "markdown",
   "metadata": {},
   "source": [
    "<div style=\"text-align: right\"><a href=\"./graficos.ipynb\">Continuar a Gráficos</a></div>"
   ]
  }
 ],
 "metadata": {
  "kernelspec": {
   "display_name": "Python 3",
   "language": "python",
   "name": "python3"
  },
  "language_info": {
   "codemirror_mode": {
    "name": "ipython",
    "version": 3
   },
   "file_extension": ".py",
   "mimetype": "text/x-python",
   "name": "python",
   "nbconvert_exporter": "python",
   "pygments_lexer": "ipython3",
   "version": "3.7.3"
  }
 },
 "nbformat": 4,
 "nbformat_minor": 2
}
